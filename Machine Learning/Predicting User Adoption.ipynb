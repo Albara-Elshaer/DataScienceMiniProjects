{
 "cells": [
  {
   "cell_type": "markdown",
   "metadata": {},
   "source": [
    "# Introduction"
   ]
  },
  {
   "cell_type": "markdown",
   "metadata": {},
   "source": [
    "The aim of this project is to identify which factors predict user adoption by defining an \"adopted user\" as a user who has logged into the product on three separate days in at least one sevenday period\n",
    "\n",
    "\n",
    "The data is available as two attached CSV files and each data set has the following information:<br>\n",
    "\n",
    "1.`takehome_users.csv`<br>\n",
    "A user table ( \"takehome_users\" ) with data on 12,000 users who signed up for the product in the last two years. This table includes:<br>\n",
    " ● **name:** the user's name <br>\n",
    " ● **object_id:** the user's id <br>\n",
    " ● **email:** email address <br>\n",
    " ● **creation_source**: how their account was created. This takes on one of 5 values:<br>\n",
    "           ○ **PERSONAL_PROJECTS:** invited to join another user's personal workspace<br>\n",
    "           ○ **GUEST_INVITE:** invited to an organization as a guest (limited permissions)<br>\n",
    "           ○ **ORG_INVITE:** invited to an organization (as a full member) <br>\n",
    "           ○ **SIGNUP:** signed up via the website <br>\n",
    "           ○ **SIGNUP_GOOGLE_AUTH:** signed up using Google Authentication (using a Google email account for their login id)<br>\n",
    " ● **creation_time:** when they created their account <br>\n",
    " ● **last_session_creation_time:** unix timestamp of last login <br>\n",
    " ● **opted_in_to_mailing_list:** whether they have opted into receiving marketing emails <br>\n",
    " ● **enabled_for_marketing_drip:** whether they are on the regular marketing email drip <br>\n",
    " ● **org_id:** the organization (group of users) they belong to <br>\n",
    " ● **invited_by_user_id:** which user invited them to join (if applicable) <br>\n",
    " ● **user_id:** which user invited them to join (if applicable) <br>\n",
    "\n",
    "2. `takehome_user_engagement.csv`<br>\n",
    "A usage summary table (\"takehome_user_engagement\") that has a row for each day that a user logged into the product."
   ]
  },
  {
   "cell_type": "code",
   "execution_count": 1,
   "metadata": {},
   "outputs": [],
   "source": [
    "# import packages\n",
    "import pandas as pd\n",
    "import numpy as np\n",
    "import matplotlib.pyplot as plt\n",
    "import seaborn as sns\n",
    "import datetime\n",
    "from tqdm import tqdm\n",
    "from collections import Counter\n",
    "%matplotlib inline"
   ]
  },
  {
   "cell_type": "code",
   "execution_count": 45,
   "metadata": {},
   "outputs": [
    {
     "data": {
      "text/html": [
       "<div>\n",
       "<style scoped>\n",
       "    .dataframe tbody tr th:only-of-type {\n",
       "        vertical-align: middle;\n",
       "    }\n",
       "\n",
       "    .dataframe tbody tr th {\n",
       "        vertical-align: top;\n",
       "    }\n",
       "\n",
       "    .dataframe thead th {\n",
       "        text-align: right;\n",
       "    }\n",
       "</style>\n",
       "<table border=\"1\" class=\"dataframe\">\n",
       "  <thead>\n",
       "    <tr style=\"text-align: right;\">\n",
       "      <th></th>\n",
       "      <th>time_stamp</th>\n",
       "      <th>user_id</th>\n",
       "      <th>visited</th>\n",
       "    </tr>\n",
       "  </thead>\n",
       "  <tbody>\n",
       "    <tr>\n",
       "      <th>0</th>\n",
       "      <td>2014-04-22 03:53:30</td>\n",
       "      <td>1</td>\n",
       "      <td>1</td>\n",
       "    </tr>\n",
       "    <tr>\n",
       "      <th>1</th>\n",
       "      <td>2013-11-15 03:45:04</td>\n",
       "      <td>2</td>\n",
       "      <td>1</td>\n",
       "    </tr>\n",
       "    <tr>\n",
       "      <th>2</th>\n",
       "      <td>2013-11-29 03:45:04</td>\n",
       "      <td>2</td>\n",
       "      <td>1</td>\n",
       "    </tr>\n",
       "    <tr>\n",
       "      <th>3</th>\n",
       "      <td>2013-12-09 03:45:04</td>\n",
       "      <td>2</td>\n",
       "      <td>1</td>\n",
       "    </tr>\n",
       "    <tr>\n",
       "      <th>4</th>\n",
       "      <td>2013-12-25 03:45:04</td>\n",
       "      <td>2</td>\n",
       "      <td>1</td>\n",
       "    </tr>\n",
       "  </tbody>\n",
       "</table>\n",
       "</div>"
      ],
      "text/plain": [
       "            time_stamp  user_id  visited\n",
       "0  2014-04-22 03:53:30        1        1\n",
       "1  2013-11-15 03:45:04        2        1\n",
       "2  2013-11-29 03:45:04        2        1\n",
       "3  2013-12-09 03:45:04        2        1\n",
       "4  2013-12-25 03:45:04        2        1"
      ]
     },
     "execution_count": 45,
     "metadata": {},
     "output_type": "execute_result"
    }
   ],
   "source": [
    "# Load and examine the data \n",
    "user_engagement_df= pd.read_csv(r\"C:\\Users\\Bara Elshaer\\Documents\\Python\\Data Science\\Relax Challenge\\takehome_user_engagement.csv\")\n",
    "user_engagement_df.head()"
   ]
  },
  {
   "cell_type": "markdown",
   "metadata": {},
   "source": [
    "**Note:** 'takehome_users.csv' was re-encoded to utf-8 to allow proper opening."
   ]
  },
  {
   "cell_type": "code",
   "execution_count": 46,
   "metadata": {},
   "outputs": [
    {
     "data": {
      "text/html": [
       "<div>\n",
       "<style scoped>\n",
       "    .dataframe tbody tr th:only-of-type {\n",
       "        vertical-align: middle;\n",
       "    }\n",
       "\n",
       "    .dataframe tbody tr th {\n",
       "        vertical-align: top;\n",
       "    }\n",
       "\n",
       "    .dataframe thead th {\n",
       "        text-align: right;\n",
       "    }\n",
       "</style>\n",
       "<table border=\"1\" class=\"dataframe\">\n",
       "  <thead>\n",
       "    <tr style=\"text-align: right;\">\n",
       "      <th></th>\n",
       "      <th>object_id</th>\n",
       "      <th>creation_time</th>\n",
       "      <th>name</th>\n",
       "      <th>email</th>\n",
       "      <th>creation_source</th>\n",
       "      <th>last_session_creation_time</th>\n",
       "      <th>opted_in_to_mailing_list</th>\n",
       "      <th>enabled_for_marketing_drip</th>\n",
       "      <th>org_id</th>\n",
       "      <th>invited_by_user_id</th>\n",
       "    </tr>\n",
       "  </thead>\n",
       "  <tbody>\n",
       "    <tr>\n",
       "      <th>0</th>\n",
       "      <td>1</td>\n",
       "      <td>2014-04-22 03:53:30</td>\n",
       "      <td>Clausen August</td>\n",
       "      <td>AugustCClausen@yahoo.com</td>\n",
       "      <td>GUEST_INVITE</td>\n",
       "      <td>1.398139e+09</td>\n",
       "      <td>1</td>\n",
       "      <td>0</td>\n",
       "      <td>11</td>\n",
       "      <td>10803.0</td>\n",
       "    </tr>\n",
       "    <tr>\n",
       "      <th>1</th>\n",
       "      <td>2</td>\n",
       "      <td>2013-11-15 03:45:04</td>\n",
       "      <td>Poole Matthew</td>\n",
       "      <td>MatthewPoole@gustr.com</td>\n",
       "      <td>ORG_INVITE</td>\n",
       "      <td>1.396238e+09</td>\n",
       "      <td>0</td>\n",
       "      <td>0</td>\n",
       "      <td>1</td>\n",
       "      <td>316.0</td>\n",
       "    </tr>\n",
       "    <tr>\n",
       "      <th>2</th>\n",
       "      <td>3</td>\n",
       "      <td>2013-03-19 23:14:52</td>\n",
       "      <td>Bottrill Mitchell</td>\n",
       "      <td>MitchellBottrill@gustr.com</td>\n",
       "      <td>ORG_INVITE</td>\n",
       "      <td>1.363735e+09</td>\n",
       "      <td>0</td>\n",
       "      <td>0</td>\n",
       "      <td>94</td>\n",
       "      <td>1525.0</td>\n",
       "    </tr>\n",
       "    <tr>\n",
       "      <th>3</th>\n",
       "      <td>4</td>\n",
       "      <td>2013-05-21 08:09:28</td>\n",
       "      <td>Clausen Nicklas</td>\n",
       "      <td>NicklasSClausen@yahoo.com</td>\n",
       "      <td>GUEST_INVITE</td>\n",
       "      <td>1.369210e+09</td>\n",
       "      <td>0</td>\n",
       "      <td>0</td>\n",
       "      <td>1</td>\n",
       "      <td>5151.0</td>\n",
       "    </tr>\n",
       "    <tr>\n",
       "      <th>4</th>\n",
       "      <td>5</td>\n",
       "      <td>2013-01-17 10:14:20</td>\n",
       "      <td>Raw Grace</td>\n",
       "      <td>GraceRaw@yahoo.com</td>\n",
       "      <td>GUEST_INVITE</td>\n",
       "      <td>1.358850e+09</td>\n",
       "      <td>0</td>\n",
       "      <td>0</td>\n",
       "      <td>193</td>\n",
       "      <td>5240.0</td>\n",
       "    </tr>\n",
       "  </tbody>\n",
       "</table>\n",
       "</div>"
      ],
      "text/plain": [
       "   object_id        creation_time               name  \\\n",
       "0          1  2014-04-22 03:53:30     Clausen August   \n",
       "1          2  2013-11-15 03:45:04      Poole Matthew   \n",
       "2          3  2013-03-19 23:14:52  Bottrill Mitchell   \n",
       "3          4  2013-05-21 08:09:28    Clausen Nicklas   \n",
       "4          5  2013-01-17 10:14:20          Raw Grace   \n",
       "\n",
       "                        email creation_source  last_session_creation_time  \\\n",
       "0    AugustCClausen@yahoo.com    GUEST_INVITE                1.398139e+09   \n",
       "1      MatthewPoole@gustr.com      ORG_INVITE                1.396238e+09   \n",
       "2  MitchellBottrill@gustr.com      ORG_INVITE                1.363735e+09   \n",
       "3   NicklasSClausen@yahoo.com    GUEST_INVITE                1.369210e+09   \n",
       "4          GraceRaw@yahoo.com    GUEST_INVITE                1.358850e+09   \n",
       "\n",
       "   opted_in_to_mailing_list  enabled_for_marketing_drip  org_id  \\\n",
       "0                         1                           0      11   \n",
       "1                         0                           0       1   \n",
       "2                         0                           0      94   \n",
       "3                         0                           0       1   \n",
       "4                         0                           0     193   \n",
       "\n",
       "   invited_by_user_id  \n",
       "0             10803.0  \n",
       "1               316.0  \n",
       "2              1525.0  \n",
       "3              5151.0  \n",
       "4              5240.0  "
      ]
     },
     "execution_count": 46,
     "metadata": {},
     "output_type": "execute_result"
    }
   ],
   "source": [
    "users_df=pd.read_csv(r\"C:\\Users\\Bara Elshaer\\Documents\\Python\\Data Science\\Relax Challenge\\takehome_users.csv\", encoding=\"latin-1\")\n",
    "users_df.head()"
   ]
  },
  {
   "cell_type": "code",
   "execution_count": 47,
   "metadata": {},
   "outputs": [
    {
     "name": "stdout",
     "output_type": "stream",
     "text": [
      "Total number of active users of the application: 8823\n",
      "Total number of users who signed up for the application: 12000\n",
      "Total number of user discrepancy: 3177\n"
     ]
    }
   ],
   "source": [
    "# Examining the user data to see who is using the application \n",
    "\n",
    "'''\n",
    "I am passing the user engagement table because I want to count all the users who are actually using the application. \n",
    "'''\n",
    "a= len(list(user_engagement_df['user_id'].unique()))\n",
    "print('Total number of active users of the application:', a)\n",
    "\n",
    "'''\n",
    "I am passing the takehome user table because I want to count the total number of people who signed up regardless of \n",
    "their activity status.\n",
    "'''\n",
    "b= len(list(users_df['object_id'].unique()))\n",
    "print('Total number of users who signed up for the application:', b)\n",
    "\n",
    "print('Total number of user discrepancy:', b-a)"
   ]
  },
  {
   "cell_type": "markdown",
   "metadata": {},
   "source": [
    "I can confirm the math of inactive users (the users who never signed in) by executing the following code block:"
   ]
  },
  {
   "cell_type": "code",
   "execution_count": 48,
   "metadata": {},
   "outputs": [
    {
     "name": "stdout",
     "output_type": "stream",
     "text": [
      "Total number of inactive users: 3177\n"
     ]
    }
   ],
   "source": [
    "print('Total number of inactive users:', \n",
    "      len(user_info_df[user_info_df['last_session_creation_time'].isnull()]))"
   ]
  },
  {
   "cell_type": "markdown",
   "metadata": {},
   "source": [
    "# Data Wrangling"
   ]
  },
  {
   "cell_type": "code",
   "execution_count": 49,
   "metadata": {},
   "outputs": [
    {
     "name": "stdout",
     "output_type": "stream",
     "text": [
      "time_stamp    False\n",
      "user_id       False\n",
      "visited       False\n",
      "dtype: bool\n"
     ]
    }
   ],
   "source": [
    "# Checking for missing data in the user engagement table\n",
    "print(user_engagement_df.isnull().any())"
   ]
  },
  {
   "cell_type": "code",
   "execution_count": 50,
   "metadata": {},
   "outputs": [
    {
     "name": "stdout",
     "output_type": "stream",
     "text": [
      "object_id                     False\n",
      "creation_time                 False\n",
      "name                          False\n",
      "email                         False\n",
      "creation_source               False\n",
      "last_session_creation_time     True\n",
      "opted_in_to_mailing_list      False\n",
      "enabled_for_marketing_drip    False\n",
      "org_id                        False\n",
      "invited_by_user_id             True\n",
      "dtype: bool\n"
     ]
    }
   ],
   "source": [
    "# Checking for missing data in the user information table\n",
    "print(users_df.isnull().any())"
   ]
  },
  {
   "cell_type": "code",
   "execution_count": 51,
   "metadata": {},
   "outputs": [
    {
     "name": "stdout",
     "output_type": "stream",
     "text": [
      "False    6417\n",
      "True     5583\n",
      "Name: invited_by_user_id, dtype: int64\n",
      "False    8823\n",
      "True     3177\n",
      "Name: last_session_creation_time, dtype: int64\n"
     ]
    }
   ],
   "source": [
    "'''\n",
    "Checking to see how much missing data there is in the last_session_creation_time column and invited_by_user_id column \n",
    "'''\n",
    "print(users_df['invited_by_user_id'].isnull().value_counts())\n",
    "\n",
    "print(users_df['last_session_creation_time'].isnull().value_counts())"
   ]
  },
  {
   "cell_type": "markdown",
   "metadata": {},
   "source": [
    "There is a significant number of missing values from `invited_by_user_id` and `last_session_creation_time`, which is 5583 and 3177 respectively."
   ]
  },
  {
   "cell_type": "code",
   "execution_count": 52,
   "metadata": {},
   "outputs": [],
   "source": [
    "# Change to datetime object\n",
    "user_engagement_df['time_stamp'] = pd.to_datetime(user_engagement_df['time_stamp'])"
   ]
  },
  {
   "cell_type": "code",
   "execution_count": 53,
   "metadata": {},
   "outputs": [],
   "source": [
    "# time to add in the adopted user feature so that we can categorize the data\n",
    "\n",
    "seven_days=datetime.timedelta(7)\n",
    "adopted= {}\n",
    "\n",
    "for user_id in sorted(list(user_engagement_df['user_id'].unique())):\n",
    "    \n",
    "    adopted_user =  False\n",
    "    temp= user_engagement_df[user_engagement_df['user_id']== user_id]\n",
    "    temp= temp.sort_values('time_stamp')\n",
    "    \n",
    "    for row in temp.itertuples():\n",
    "        if adopted_user == True:\n",
    "            continue \n",
    "        this_time= temp.at[row[0], 'time_stamp']\n",
    "        if len(temp[(temp['time_stamp'] >= this_time) & (temp['time_stamp']<= (this_time + seven_days))]) >= 3:\n",
    "            \n",
    "            adopted_user= True\n",
    "    \n",
    "    adopted[user_id]= adopted_user"
   ]
  },
  {
   "cell_type": "code",
   "execution_count": 54,
   "metadata": {},
   "outputs": [
    {
     "name": "stdout",
     "output_type": "stream",
     "text": [
      "Total number of unique users: 8823\n"
     ]
    },
    {
     "data": {
      "text/html": [
       "<div>\n",
       "<style scoped>\n",
       "    .dataframe tbody tr th:only-of-type {\n",
       "        vertical-align: middle;\n",
       "    }\n",
       "\n",
       "    .dataframe tbody tr th {\n",
       "        vertical-align: top;\n",
       "    }\n",
       "\n",
       "    .dataframe thead th {\n",
       "        text-align: right;\n",
       "    }\n",
       "</style>\n",
       "<table border=\"1\" class=\"dataframe\">\n",
       "  <thead>\n",
       "    <tr style=\"text-align: right;\">\n",
       "      <th></th>\n",
       "      <th>index</th>\n",
       "      <th>0</th>\n",
       "    </tr>\n",
       "  </thead>\n",
       "  <tbody>\n",
       "    <tr>\n",
       "      <th>0</th>\n",
       "      <td>False</td>\n",
       "      <td>7167</td>\n",
       "    </tr>\n",
       "    <tr>\n",
       "      <th>1</th>\n",
       "      <td>True</td>\n",
       "      <td>1656</td>\n",
       "    </tr>\n",
       "  </tbody>\n",
       "</table>\n",
       "</div>"
      ],
      "text/plain": [
       "   index     0\n",
       "0  False  7167\n",
       "1   True  1656"
      ]
     },
     "execution_count": 54,
     "metadata": {},
     "output_type": "execute_result"
    }
   ],
   "source": [
    "# Calculating the percentage of active users \n",
    "\n",
    "count_df= pd.DataFrame.from_dict(Counter(list(adopted.values())), orient='index').reset_index()\n",
    "unique_users=len(adopted)\n",
    "print('Total number of unique users:',unique_users)\n",
    "\n",
    "count_df"
   ]
  },
  {
   "cell_type": "code",
   "execution_count": 55,
   "metadata": {},
   "outputs": [
    {
     "name": "stdout",
     "output_type": "stream",
     "text": [
      "Percent of users that fit the definition of adopted-users: 18.769126147568855\n"
     ]
    }
   ],
   "source": [
    "'''\n",
    "Using the meaning of adopted user, there is a total number of 1656 users who fit the definition\n",
    "'''\n",
    "percent=(1656/unique_users)*100\n",
    "print('Percent of users that fit the definition of adopted-users:',percent)"
   ]
  },
  {
   "cell_type": "code",
   "execution_count": 17,
   "metadata": {},
   "outputs": [
    {
     "data": {
      "text/html": [
       "<div>\n",
       "<style scoped>\n",
       "    .dataframe tbody tr th:only-of-type {\n",
       "        vertical-align: middle;\n",
       "    }\n",
       "\n",
       "    .dataframe tbody tr th {\n",
       "        vertical-align: top;\n",
       "    }\n",
       "\n",
       "    .dataframe thead th {\n",
       "        text-align: right;\n",
       "    }\n",
       "</style>\n",
       "<table border=\"1\" class=\"dataframe\">\n",
       "  <thead>\n",
       "    <tr style=\"text-align: right;\">\n",
       "      <th></th>\n",
       "      <th>object_id</th>\n",
       "      <th>creation_time</th>\n",
       "      <th>name</th>\n",
       "      <th>email</th>\n",
       "      <th>creation_source</th>\n",
       "      <th>last_session_creation_time</th>\n",
       "      <th>opted_in_to_mailing_list</th>\n",
       "      <th>enabled_for_marketing_drip</th>\n",
       "      <th>org_id</th>\n",
       "      <th>invited_by_user_id</th>\n",
       "      <th>adopted</th>\n",
       "    </tr>\n",
       "  </thead>\n",
       "  <tbody>\n",
       "    <tr>\n",
       "      <th>0</th>\n",
       "      <td>1</td>\n",
       "      <td>2014-04-22 03:53:30</td>\n",
       "      <td>Clausen August</td>\n",
       "      <td>AugustCClausen@yahoo.com</td>\n",
       "      <td>GUEST_INVITE</td>\n",
       "      <td>1.398139e+09</td>\n",
       "      <td>1</td>\n",
       "      <td>0</td>\n",
       "      <td>11</td>\n",
       "      <td>10803.0</td>\n",
       "      <td>False</td>\n",
       "    </tr>\n",
       "    <tr>\n",
       "      <th>1</th>\n",
       "      <td>2</td>\n",
       "      <td>2013-11-15 03:45:04</td>\n",
       "      <td>Poole Matthew</td>\n",
       "      <td>MatthewPoole@gustr.com</td>\n",
       "      <td>ORG_INVITE</td>\n",
       "      <td>1.396238e+09</td>\n",
       "      <td>0</td>\n",
       "      <td>0</td>\n",
       "      <td>1</td>\n",
       "      <td>316.0</td>\n",
       "      <td>False</td>\n",
       "    </tr>\n",
       "    <tr>\n",
       "      <th>2</th>\n",
       "      <td>3</td>\n",
       "      <td>2013-03-19 23:14:52</td>\n",
       "      <td>Bottrill Mitchell</td>\n",
       "      <td>MitchellBottrill@gustr.com</td>\n",
       "      <td>ORG_INVITE</td>\n",
       "      <td>1.363735e+09</td>\n",
       "      <td>0</td>\n",
       "      <td>0</td>\n",
       "      <td>94</td>\n",
       "      <td>1525.0</td>\n",
       "      <td>False</td>\n",
       "    </tr>\n",
       "    <tr>\n",
       "      <th>3</th>\n",
       "      <td>4</td>\n",
       "      <td>2013-05-21 08:09:28</td>\n",
       "      <td>Clausen Nicklas</td>\n",
       "      <td>NicklasSClausen@yahoo.com</td>\n",
       "      <td>GUEST_INVITE</td>\n",
       "      <td>1.369210e+09</td>\n",
       "      <td>0</td>\n",
       "      <td>0</td>\n",
       "      <td>1</td>\n",
       "      <td>5151.0</td>\n",
       "      <td>False</td>\n",
       "    </tr>\n",
       "    <tr>\n",
       "      <th>4</th>\n",
       "      <td>5</td>\n",
       "      <td>2013-01-17 10:14:20</td>\n",
       "      <td>Raw Grace</td>\n",
       "      <td>GraceRaw@yahoo.com</td>\n",
       "      <td>GUEST_INVITE</td>\n",
       "      <td>1.358850e+09</td>\n",
       "      <td>0</td>\n",
       "      <td>0</td>\n",
       "      <td>193</td>\n",
       "      <td>5240.0</td>\n",
       "      <td>False</td>\n",
       "    </tr>\n",
       "  </tbody>\n",
       "</table>\n",
       "</div>"
      ],
      "text/plain": [
       "   object_id        creation_time               name  \\\n",
       "0          1  2014-04-22 03:53:30     Clausen August   \n",
       "1          2  2013-11-15 03:45:04      Poole Matthew   \n",
       "2          3  2013-03-19 23:14:52  Bottrill Mitchell   \n",
       "3          4  2013-05-21 08:09:28    Clausen Nicklas   \n",
       "4          5  2013-01-17 10:14:20          Raw Grace   \n",
       "\n",
       "                        email creation_source  last_session_creation_time  \\\n",
       "0    AugustCClausen@yahoo.com    GUEST_INVITE                1.398139e+09   \n",
       "1      MatthewPoole@gustr.com      ORG_INVITE                1.396238e+09   \n",
       "2  MitchellBottrill@gustr.com      ORG_INVITE                1.363735e+09   \n",
       "3   NicklasSClausen@yahoo.com    GUEST_INVITE                1.369210e+09   \n",
       "4          GraceRaw@yahoo.com    GUEST_INVITE                1.358850e+09   \n",
       "\n",
       "   opted_in_to_mailing_list  enabled_for_marketing_drip  org_id  \\\n",
       "0                         1                           0      11   \n",
       "1                         0                           0       1   \n",
       "2                         0                           0      94   \n",
       "3                         0                           0       1   \n",
       "4                         0                           0     193   \n",
       "\n",
       "   invited_by_user_id  adopted  \n",
       "0             10803.0    False  \n",
       "1               316.0    False  \n",
       "2              1525.0    False  \n",
       "3              5151.0    False  \n",
       "4              5240.0    False  "
      ]
     },
     "execution_count": 17,
     "metadata": {},
     "output_type": "execute_result"
    }
   ],
   "source": [
    "# Create adopted target variable and display dataset again\n",
    "users_df['adopted'] = False\n",
    "users_df.head()"
   ]
  },
  {
   "cell_type": "code",
   "execution_count": null,
   "metadata": {},
   "outputs": [],
   "source": []
  },
  {
   "cell_type": "code",
   "execution_count": 23,
   "metadata": {},
   "outputs": [
    {
     "name": "stdout",
     "output_type": "stream",
     "text": [
      "<class 'pandas.core.frame.DataFrame'>\n",
      "RangeIndex: 12000 entries, 0 to 11999\n",
      "Data columns (total 11 columns):\n",
      "object_id                     12000 non-null int64\n",
      "creation_time                 12000 non-null object\n",
      "name                          12000 non-null object\n",
      "email                         12000 non-null object\n",
      "creation_source               12000 non-null object\n",
      "last_session_creation_time    8823 non-null float64\n",
      "opted_in_to_mailing_list      12000 non-null int64\n",
      "enabled_for_marketing_drip    12000 non-null int64\n",
      "org_id                        12000 non-null int64\n",
      "invited_by_user_id            6417 non-null float64\n",
      "adopted                       12000 non-null bool\n",
      "dtypes: bool(1), float64(2), int64(4), object(4)\n",
      "memory usage: 949.3+ KB\n"
     ]
    }
   ],
   "source": [
    "users_df.info()"
   ]
  },
  {
   "cell_type": "code",
   "execution_count": 24,
   "metadata": {},
   "outputs": [
    {
     "name": "stdout",
     "output_type": "stream",
     "text": [
      "creation_source feature:\n",
      "ORG_INVITE            4254\n",
      "GUEST_INVITE          2163\n",
      "PERSONAL_PROJECTS     2111\n",
      "SIGNUP                2087\n",
      "SIGNUP_GOOGLE_AUTH    1385\n",
      "Name: creation_source, dtype: int64\n",
      "\n",
      "opted_in_to_mailing_list feature:\n",
      "0    9006\n",
      "1    2994\n",
      "Name: opted_in_to_mailing_list, dtype: int64\n",
      "\n",
      "enabled_for_marketing_drip feature:\n",
      "0    10208\n",
      "1     1792\n",
      "Name: enabled_for_marketing_drip, dtype: int64\n",
      "\n"
     ]
    }
   ],
   "source": [
    "# Check on the higher risk/more defined features\n",
    "for feature in ['creation_source', 'opted_in_to_mailing_list', 'enabled_for_marketing_drip']:\n",
    "    print('{} feature:'.format(feature))\n",
    "    print(users_df[feature].value_counts(), end='\\n\\n')"
   ]
  },
  {
   "cell_type": "code",
   "execution_count": 25,
   "metadata": {},
   "outputs": [],
   "source": [
    "users_df['last_session_creation_time'] = users_df['last_session_creation_time'].fillna(users_df['last_session_creation_time'].median())\n",
    "\n",
    "\n",
    "users_df['creation_time'] = pd.to_datetime(users_df['last_session_creation_time'])\n",
    "users_df['creation_time'] = pd.to_datetime(users_df['creation_time'])\n",
    "# day of the week account created\n",
    "users_df['day_created'] = users_df['creation_time'].apply(lambda x: x.dayofweek)\n",
    "# hour of the day account created\n",
    "users_df['hour_created'] = users_df['creation_time'].apply(lambda x: x.hour)\n",
    "# drop the original column\n",
    "users_df.drop('creation_time', axis=1, inplace=True)"
   ]
  },
  {
   "cell_type": "code",
   "execution_count": 26,
   "metadata": {},
   "outputs": [
    {
     "data": {
      "image/png": "[encoded data removed]",
      "text/plain": [
       "<Figure size 432x288 with 1 Axes>"
      ]
     },
     "metadata": {
      "needs_background": "light"
     },
     "output_type": "display_data"
    }
   ],
   "source": [
    "# Take another look at the distribution of the target class\n",
    "sns.barplot(x = list(users_df['adopted'].value_counts().index), y = users_df['adopted'].value_counts(), palette='Blues')\n",
    "plt.ylabel('')\n",
    "plt.title('Adopted vs. Not-Adopted Users');"
   ]
  },
  {
   "cell_type": "markdown",
   "metadata": {},
   "source": [
    "As there is a heavy imbalance in the classes here I will split the data into training and testing data and then oversample the training the data to balance out the classes w/o distorting the testing data."
   ]
  },
  {
   "cell_type": "code",
   "execution_count": 27,
   "metadata": {},
   "outputs": [],
   "source": [
    "users_df.drop(['name', 'email', 'invited_by_user_id', 'object_id'], axis=1, inplace=True)"
   ]
  },
  {
   "cell_type": "code",
   "execution_count": 28,
   "metadata": {},
   "outputs": [
    {
     "data": {
      "text/html": [
       "<div>\n",
       "<style scoped>\n",
       "    .dataframe tbody tr th:only-of-type {\n",
       "        vertical-align: middle;\n",
       "    }\n",
       "\n",
       "    .dataframe tbody tr th {\n",
       "        vertical-align: top;\n",
       "    }\n",
       "\n",
       "    .dataframe thead th {\n",
       "        text-align: right;\n",
       "    }\n",
       "</style>\n",
       "<table border=\"1\" class=\"dataframe\">\n",
       "  <thead>\n",
       "    <tr style=\"text-align: right;\">\n",
       "      <th></th>\n",
       "      <th>creation_source</th>\n",
       "      <th>last_session_creation_time</th>\n",
       "      <th>opted_in_to_mailing_list</th>\n",
       "      <th>enabled_for_marketing_drip</th>\n",
       "      <th>org_id</th>\n",
       "      <th>adopted</th>\n",
       "      <th>day_created</th>\n",
       "      <th>hour_created</th>\n",
       "    </tr>\n",
       "  </thead>\n",
       "  <tbody>\n",
       "    <tr>\n",
       "      <th>0</th>\n",
       "      <td>GUEST_INVITE</td>\n",
       "      <td>1.398139e+09</td>\n",
       "      <td>1</td>\n",
       "      <td>0</td>\n",
       "      <td>11</td>\n",
       "      <td>False</td>\n",
       "      <td>3</td>\n",
       "      <td>0</td>\n",
       "    </tr>\n",
       "    <tr>\n",
       "      <th>1</th>\n",
       "      <td>ORG_INVITE</td>\n",
       "      <td>1.396238e+09</td>\n",
       "      <td>0</td>\n",
       "      <td>0</td>\n",
       "      <td>1</td>\n",
       "      <td>True</td>\n",
       "      <td>3</td>\n",
       "      <td>0</td>\n",
       "    </tr>\n",
       "    <tr>\n",
       "      <th>2</th>\n",
       "      <td>ORG_INVITE</td>\n",
       "      <td>1.363735e+09</td>\n",
       "      <td>0</td>\n",
       "      <td>0</td>\n",
       "      <td>94</td>\n",
       "      <td>False</td>\n",
       "      <td>3</td>\n",
       "      <td>0</td>\n",
       "    </tr>\n",
       "    <tr>\n",
       "      <th>3</th>\n",
       "      <td>GUEST_INVITE</td>\n",
       "      <td>1.369210e+09</td>\n",
       "      <td>0</td>\n",
       "      <td>0</td>\n",
       "      <td>1</td>\n",
       "      <td>False</td>\n",
       "      <td>3</td>\n",
       "      <td>0</td>\n",
       "    </tr>\n",
       "    <tr>\n",
       "      <th>4</th>\n",
       "      <td>GUEST_INVITE</td>\n",
       "      <td>1.358850e+09</td>\n",
       "      <td>0</td>\n",
       "      <td>0</td>\n",
       "      <td>193</td>\n",
       "      <td>False</td>\n",
       "      <td>3</td>\n",
       "      <td>0</td>\n",
       "    </tr>\n",
       "  </tbody>\n",
       "</table>\n",
       "</div>"
      ],
      "text/plain": [
       "  creation_source  last_session_creation_time  opted_in_to_mailing_list  \\\n",
       "0    GUEST_INVITE                1.398139e+09                         1   \n",
       "1      ORG_INVITE                1.396238e+09                         0   \n",
       "2      ORG_INVITE                1.363735e+09                         0   \n",
       "3    GUEST_INVITE                1.369210e+09                         0   \n",
       "4    GUEST_INVITE                1.358850e+09                         0   \n",
       "\n",
       "   enabled_for_marketing_drip  org_id  adopted  day_created  hour_created  \n",
       "0                           0      11    False            3             0  \n",
       "1                           0       1     True            3             0  \n",
       "2                           0      94    False            3             0  \n",
       "3                           0       1    False            3             0  \n",
       "4                           0     193    False            3             0  "
      ]
     },
     "execution_count": 28,
     "metadata": {},
     "output_type": "execute_result"
    }
   ],
   "source": [
    "users_df.head()"
   ]
  },
  {
   "cell_type": "code",
   "execution_count": 29,
   "metadata": {},
   "outputs": [],
   "source": [
    "# One-hot-encode creation_source\n",
    "df_encoded = pd.get_dummies(users_df, columns = ['creation_source'])"
   ]
  },
  {
   "cell_type": "code",
   "execution_count": 30,
   "metadata": {},
   "outputs": [],
   "source": [
    "X = df_encoded.drop('adopted', axis=1)\n",
    "y = df_encoded['adopted']"
   ]
  },
  {
   "cell_type": "code",
   "execution_count": 31,
   "metadata": {},
   "outputs": [],
   "source": [
    "# Split into train and test sets\n",
    "\n",
    "from sklearn.model_selection import train_test_split\n",
    "\n",
    "X_train, X_test, y_train, y_test = train_test_split(X,y, test_size=0.30, \n",
    "                                                           random_state=2007, stratify=users_df['adopted'])\n"
   ]
  },
  {
   "cell_type": "code",
   "execution_count": 32,
   "metadata": {},
   "outputs": [
    {
     "data": {
      "text/plain": [
       "5655    False\n",
       "7390    False\n",
       "3313    False\n",
       "8560    False\n",
       "1656    False\n",
       "Name: adopted, dtype: bool"
      ]
     },
     "execution_count": 32,
     "metadata": {},
     "output_type": "execute_result"
    }
   ],
   "source": [
    "y_train.head()"
   ]
  },
  {
   "cell_type": "code",
   "execution_count": 33,
   "metadata": {},
   "outputs": [
    {
     "data": {
      "text/html": [
       "<div>\n",
       "<style scoped>\n",
       "    .dataframe tbody tr th:only-of-type {\n",
       "        vertical-align: middle;\n",
       "    }\n",
       "\n",
       "    .dataframe tbody tr th {\n",
       "        vertical-align: top;\n",
       "    }\n",
       "\n",
       "    .dataframe thead th {\n",
       "        text-align: right;\n",
       "    }\n",
       "</style>\n",
       "<table border=\"1\" class=\"dataframe\">\n",
       "  <thead>\n",
       "    <tr style=\"text-align: right;\">\n",
       "      <th></th>\n",
       "      <th>last_session_creation_time</th>\n",
       "      <th>opted_in_to_mailing_list</th>\n",
       "      <th>enabled_for_marketing_drip</th>\n",
       "      <th>org_id</th>\n",
       "      <th>day_created</th>\n",
       "      <th>hour_created</th>\n",
       "      <th>creation_source_GUEST_INVITE</th>\n",
       "      <th>creation_source_ORG_INVITE</th>\n",
       "      <th>creation_source_PERSONAL_PROJECTS</th>\n",
       "      <th>creation_source_SIGNUP</th>\n",
       "      <th>creation_source_SIGNUP_GOOGLE_AUTH</th>\n",
       "    </tr>\n",
       "  </thead>\n",
       "  <tbody>\n",
       "    <tr>\n",
       "      <th>5655</th>\n",
       "      <td>1.382888e+09</td>\n",
       "      <td>1</td>\n",
       "      <td>0</td>\n",
       "      <td>216</td>\n",
       "      <td>3</td>\n",
       "      <td>0</td>\n",
       "      <td>0</td>\n",
       "      <td>1</td>\n",
       "      <td>0</td>\n",
       "      <td>0</td>\n",
       "      <td>0</td>\n",
       "    </tr>\n",
       "    <tr>\n",
       "      <th>7390</th>\n",
       "      <td>1.360001e+09</td>\n",
       "      <td>0</td>\n",
       "      <td>0</td>\n",
       "      <td>220</td>\n",
       "      <td>3</td>\n",
       "      <td>0</td>\n",
       "      <td>0</td>\n",
       "      <td>0</td>\n",
       "      <td>1</td>\n",
       "      <td>0</td>\n",
       "      <td>0</td>\n",
       "    </tr>\n",
       "    <tr>\n",
       "      <th>3313</th>\n",
       "      <td>1.391318e+09</td>\n",
       "      <td>0</td>\n",
       "      <td>0</td>\n",
       "      <td>274</td>\n",
       "      <td>3</td>\n",
       "      <td>0</td>\n",
       "      <td>0</td>\n",
       "      <td>1</td>\n",
       "      <td>0</td>\n",
       "      <td>0</td>\n",
       "      <td>0</td>\n",
       "    </tr>\n",
       "    <tr>\n",
       "      <th>8560</th>\n",
       "      <td>1.399979e+09</td>\n",
       "      <td>0</td>\n",
       "      <td>0</td>\n",
       "      <td>44</td>\n",
       "      <td>3</td>\n",
       "      <td>0</td>\n",
       "      <td>0</td>\n",
       "      <td>1</td>\n",
       "      <td>0</td>\n",
       "      <td>0</td>\n",
       "      <td>0</td>\n",
       "    </tr>\n",
       "    <tr>\n",
       "      <th>1656</th>\n",
       "      <td>1.382888e+09</td>\n",
       "      <td>0</td>\n",
       "      <td>0</td>\n",
       "      <td>412</td>\n",
       "      <td>3</td>\n",
       "      <td>0</td>\n",
       "      <td>0</td>\n",
       "      <td>0</td>\n",
       "      <td>1</td>\n",
       "      <td>0</td>\n",
       "      <td>0</td>\n",
       "    </tr>\n",
       "  </tbody>\n",
       "</table>\n",
       "</div>"
      ],
      "text/plain": [
       "      last_session_creation_time  opted_in_to_mailing_list  \\\n",
       "5655                1.382888e+09                         1   \n",
       "7390                1.360001e+09                         0   \n",
       "3313                1.391318e+09                         0   \n",
       "8560                1.399979e+09                         0   \n",
       "1656                1.382888e+09                         0   \n",
       "\n",
       "      enabled_for_marketing_drip  org_id  day_created  hour_created  \\\n",
       "5655                           0     216            3             0   \n",
       "7390                           0     220            3             0   \n",
       "3313                           0     274            3             0   \n",
       "8560                           0      44            3             0   \n",
       "1656                           0     412            3             0   \n",
       "\n",
       "      creation_source_GUEST_INVITE  creation_source_ORG_INVITE  \\\n",
       "5655                             0                           1   \n",
       "7390                             0                           0   \n",
       "3313                             0                           1   \n",
       "8560                             0                           1   \n",
       "1656                             0                           0   \n",
       "\n",
       "      creation_source_PERSONAL_PROJECTS  creation_source_SIGNUP  \\\n",
       "5655                                  0                       0   \n",
       "7390                                  1                       0   \n",
       "3313                                  0                       0   \n",
       "8560                                  0                       0   \n",
       "1656                                  1                       0   \n",
       "\n",
       "      creation_source_SIGNUP_GOOGLE_AUTH  \n",
       "5655                                   0  \n",
       "7390                                   0  \n",
       "3313                                   0  \n",
       "8560                                   0  \n",
       "1656                                   0  "
      ]
     },
     "execution_count": 33,
     "metadata": {},
     "output_type": "execute_result"
    }
   ],
   "source": [
    "X_train.head()"
   ]
  },
  {
   "cell_type": "markdown",
   "metadata": {},
   "source": [
    "An imbalanced dataset is a dataset where the number of data points per class differs drastically, resulting in a heavily biased machine learning model that won’t be able to learn the minority class. When this imbalanced ratio is not so heavily skewed toward one class, such dataset is not that horrible, since many machine learning models can handle them. Data oversampling is a technique applied to generate data in such a way that it resembles the underlying distribution of the real data. In this project, I will use an oversampling technique called Synthetic Minority Over-Sampling Technique or SMOTE to balance out our dataset. SMOTE is an oversampling algorithm that relies on the concept of nearest neighbors to create its synthetic data."
   ]
  },
  {
   "cell_type": "code",
   "execution_count": 34,
   "metadata": {},
   "outputs": [
    {
     "name": "stderr",
     "output_type": "stream",
     "text": [
      "Using TensorFlow backend.\n"
     ]
    },
    {
     "name": "stdout",
     "output_type": "stream",
     "text": [
      "[(False, 7241), (True, 7161)]\n"
     ]
    }
   ],
   "source": [
    "#SMOTE oversampling to balance out the classes\n",
    "\n",
    "from imblearn.over_sampling import SMOTE, ADASYN\n",
    "\n",
    "X_resampled, y_resampled = ADASYN().fit_sample(X_train, y_train)\n",
    "# X_resampled, y_resampled = X_train, y_train\n",
    "#ADASYN().fit_sample(X, y)\n",
    "\n",
    "print(sorted(Counter(y_resampled).items()))\n"
   ]
  },
  {
   "cell_type": "code",
   "execution_count": 35,
   "metadata": {},
   "outputs": [
    {
     "data": {
      "image/png": "[encoded data removed]",
      "text/plain": [
       "<Figure size 432x288 with 1 Axes>"
      ]
     },
     "metadata": {
      "needs_background": "light"
     },
     "output_type": "display_data"
    }
   ],
   "source": [
    "# Take a look at the distribution of the enhanced target class\n",
    "sns.countplot(y_resampled, palette='Blues')\n",
    "plt.ylabel('')\n",
    "plt.title('Adopted vs. Not-Adopted Users');"
   ]
  },
  {
   "cell_type": "markdown",
   "metadata": {},
   "source": [
    "# Predictive Models and Feature Importance"
   ]
  },
  {
   "cell_type": "markdown",
   "metadata": {},
   "source": [
    "I will begin by examining the OOB performance of several different relevant model in order to glean the best one to start with and then fine tune."
   ]
  },
  {
   "cell_type": "code",
   "execution_count": 37,
   "metadata": {},
   "outputs": [],
   "source": [
    "from sklearn.metrics import roc_curve, auc, accuracy_score, confusion_matrix\n",
    "from sklearn.model_selection import GridSearchCV, KFold, cross_val_score\n",
    "from sklearn.model_selection import cross_validate\n",
    "from sklearn.ensemble import RandomForestClassifier"
   ]
  },
  {
   "cell_type": "code",
   "execution_count": 38,
   "metadata": {},
   "outputs": [],
   "source": [
    "from sklearn.neighbors import KNeighborsClassifier\n",
    "from sklearn.svm import SVC\n",
    "from sklearn.linear_model import LogisticRegression\n",
    "from sklearn.tree import DecisionTreeClassifier\n",
    "from sklearn.naive_bayes import GaussianNB\n",
    "from sklearn.ensemble import RandomForestClassifier\n",
    "from sklearn.ensemble import GradientBoostingClassifier"
   ]
  },
  {
   "cell_type": "code",
   "execution_count": 39,
   "metadata": {},
   "outputs": [],
   "source": [
    "models = []\n",
    "models.append(('KNN', KNeighborsClassifier()))\n",
    "models.append(('SVC', SVC()))\n",
    "models.append(('LR', LogisticRegression()))\n",
    "models.append(('DT', DecisionTreeClassifier()))\n",
    "models.append(('GNB', GaussianNB()))\n",
    "models.append(('RF', RandomForestClassifier()))\n",
    "models.append(('GB', GradientBoostingClassifier()))"
   ]
  },
  {
   "cell_type": "code",
   "execution_count": 40,
   "metadata": {},
   "outputs": [
    {
     "name": "stderr",
     "output_type": "stream",
     "text": [
      "100%|████████████████████████████████████████████████████████████████████████████████████| 7/7 [00:01<00:00,  2.94it/s]\n"
     ]
    },
    {
     "name": "stdout",
     "output_type": "stream",
     "text": [
      "  Name     Score\n",
      "0  KNN  0.909167\n",
      "1  SVC  0.861944\n",
      "2   LR  0.861944\n",
      "3   DT  0.876667\n",
      "4  GNB  0.861944\n",
      "5   RF  0.913056\n",
      "6   GB  0.913889\n"
     ]
    }
   ],
   "source": [
    "names = []\n",
    "scores = []\n",
    "for name, model in tqdm(models):\n",
    "    model.fit(X_train, y_train)\n",
    "    y_pred = model.predict(X_test)\n",
    "    scores.append(accuracy_score(y_test, y_pred))\n",
    "    names.append(name)\n",
    "tr_split = pd.DataFrame({'Name': names, 'Score': scores})\n",
    "print(tr_split)"
   ]
  },
  {
   "cell_type": "code",
   "execution_count": 42,
   "metadata": {},
   "outputs": [
    {
     "name": "stderr",
     "output_type": "stream",
     "text": [
      "100%|████████████████████████████████████████████████████████████████████████████████████| 7/7 [00:25<00:00,  3.85s/it]\n"
     ]
    },
    {
     "name": "stdout",
     "output_type": "stream",
     "text": [
      "  Name     Score\n",
      "0  KNN  0.910500\n",
      "1  SVC  0.862000\n",
      "2   LR  0.862000\n",
      "3   DT  0.869917\n",
      "4  GNB  0.862000\n",
      "5   RF  0.911083\n",
      "6   GB  0.918333\n"
     ]
    }
   ],
   "source": [
    "names = []\n",
    "scores = []\n",
    "for name, model in tqdm(models):\n",
    "    \n",
    "    kfold = KFold(n_splits=10, random_state=None) \n",
    "    score = cross_val_score(model, X, y, cv=kfold, scoring='accuracy').mean()\n",
    "    \n",
    "    names.append(name)\n",
    "    scores.append(score)\n",
    "kf_cross_val = pd.DataFrame({'Name': names, 'Score': scores})\n",
    "print(kf_cross_val)"
   ]
  },
  {
   "cell_type": "code",
   "execution_count": 43,
   "metadata": {},
   "outputs": [
    {
     "data": {
      "image/png": "[encoded data removed]",
      "text/plain": [
       "<Figure size 432x288 with 1 Axes>"
      ]
     },
     "metadata": {
      "needs_background": "light"
     },
     "output_type": "display_data"
    }
   ],
   "source": [
    "# Visualize model model scores\n",
    "axis = sns.barplot(x = 'Name', y = 'Score', data = kf_cross_val, palette='Blues')\n",
    "axis.set(xlabel='Classifier', ylabel='Accuracy')\n",
    "for p in axis.patches:\n",
    "    height = p.get_height()\n",
    "    axis.text(p.get_x() + p.get_width()/2, height + 0.005, '{:1.4f}'.format(height), ha=\"center\") \n",
    "    \n",
    "plt.show()"
   ]
  },
  {
   "cell_type": "markdown",
   "metadata": {},
   "source": [
    "Train and tune a single model."
   ]
  },
  {
   "cell_type": "code",
   "execution_count": 56,
   "metadata": {},
   "outputs": [
    {
     "name": "stdout",
     "output_type": "stream",
     "text": [
      "      Iter       Train Loss   Remaining Time \n",
      "         1           0.7090            0.59s\n",
      "         2           0.6539            0.73s\n",
      "         3           0.6143            0.74s\n",
      "         4           0.5839            0.72s\n",
      "         5           0.5597            0.70s\n",
      "         6           0.5399            0.69s\n",
      "         7           0.5235            0.66s\n",
      "         8           0.5099            0.67s\n",
      "         9           0.4975            0.70s\n",
      "        10           0.4878            0.71s\n",
      "        20           0.4371            0.60s\n",
      "        30           0.4208            0.48s\n",
      "        40           0.4120            0.39s\n",
      "        50           0.4024            0.32s\n",
      "        60           0.3945            0.25s\n",
      "        70           0.3878            0.19s\n",
      "        80           0.3828            0.12s\n",
      "        90           0.3799            0.06s\n",
      "       100           0.3751            0.00s\n",
      "Train Score: 0.929\n",
      "Test Score: 0.914\n"
     ]
    }
   ],
   "source": [
    "clf = GradientBoostingClassifier(verbose=True)\n",
    "clf.fit(X_train, y_train)\n",
    "print('Train Score:', round(clf.score(X_train,y_train),3))\n",
    "print('Test Score:', round(clf.score(X_test,y_test),3))"
   ]
  },
  {
   "cell_type": "code",
   "execution_count": 57,
   "metadata": {},
   "outputs": [
    {
     "data": {
      "text/plain": [
       "array([[2986,  117],\n",
       "       [ 193,  304]], dtype=int64)"
      ]
     },
     "execution_count": 57,
     "metadata": {},
     "output_type": "execute_result"
    }
   ],
   "source": [
    "# TP / FP \n",
    "confusion_matrix(y_test, clf.predict(X_test))"
   ]
  },
  {
   "cell_type": "markdown",
   "metadata": {},
   "source": [
    "Examine the model feature importance."
   ]
  },
  {
   "cell_type": "code",
   "execution_count": 58,
   "metadata": {},
   "outputs": [
    {
     "data": {
      "text/plain": [
       "(11,)"
      ]
     },
     "execution_count": 58,
     "metadata": {},
     "output_type": "execute_result"
    }
   ],
   "source": [
    "clf.feature_importances_.shape\n"
   ]
  },
  {
   "cell_type": "code",
   "execution_count": 59,
   "metadata": {},
   "outputs": [],
   "source": [
    "features = pd.Series(clf.feature_importances_, index=X.columns)"
   ]
  },
  {
   "cell_type": "code",
   "execution_count": 61,
   "metadata": {},
   "outputs": [
    {
     "data": {
      "text/plain": [
       "<matplotlib.axes._subplots.AxesSubplot at 0x2c8bb8b7048>"
      ]
     },
     "execution_count": 61,
     "metadata": {},
     "output_type": "execute_result"
    },
    {
     "data": {
      "image/png": "[encoded data removed]",
      "text/plain": [
       "<Figure size 432x720 with 1 Axes>"
      ]
     },
     "metadata": {
      "needs_background": "light"
     },
     "output_type": "display_data"
    }
   ],
   "source": [
    "plt.figure(figsize=(6,10))\n",
    "sns.barplot(y=X.columns, x=clf.feature_importances_, palette='Blues')"
   ]
  },
  {
   "cell_type": "code",
   "execution_count": 62,
   "metadata": {},
   "outputs": [
    {
     "data": {
      "text/html": [
       "<div>\n",
       "<style scoped>\n",
       "    .dataframe tbody tr th:only-of-type {\n",
       "        vertical-align: middle;\n",
       "    }\n",
       "\n",
       "    .dataframe tbody tr th {\n",
       "        vertical-align: top;\n",
       "    }\n",
       "\n",
       "    .dataframe thead th {\n",
       "        text-align: right;\n",
       "    }\n",
       "</style>\n",
       "<table border=\"1\" class=\"dataframe\">\n",
       "  <thead>\n",
       "    <tr style=\"text-align: right;\">\n",
       "      <th></th>\n",
       "      <th>feature_importance</th>\n",
       "    </tr>\n",
       "  </thead>\n",
       "  <tbody>\n",
       "    <tr>\n",
       "      <th>last_session_creation_time</th>\n",
       "      <td>9.766500e-01</td>\n",
       "    </tr>\n",
       "    <tr>\n",
       "      <th>org_id</th>\n",
       "      <td>1.689499e-02</td>\n",
       "    </tr>\n",
       "    <tr>\n",
       "      <th>creation_source_PERSONAL_PROJECTS</th>\n",
       "      <td>2.634997e-03</td>\n",
       "    </tr>\n",
       "    <tr>\n",
       "      <th>creation_source_GUEST_INVITE</th>\n",
       "      <td>1.432667e-03</td>\n",
       "    </tr>\n",
       "    <tr>\n",
       "      <th>enabled_for_marketing_drip</th>\n",
       "      <td>1.223438e-03</td>\n",
       "    </tr>\n",
       "    <tr>\n",
       "      <th>opted_in_to_mailing_list</th>\n",
       "      <td>7.433294e-04</td>\n",
       "    </tr>\n",
       "    <tr>\n",
       "      <th>creation_source_SIGNUP</th>\n",
       "      <td>4.199003e-04</td>\n",
       "    </tr>\n",
       "    <tr>\n",
       "      <th>creation_source_ORG_INVITE</th>\n",
       "      <td>6.449306e-07</td>\n",
       "    </tr>\n",
       "    <tr>\n",
       "      <th>creation_source_SIGNUP_GOOGLE_AUTH</th>\n",
       "      <td>6.288634e-09</td>\n",
       "    </tr>\n",
       "    <tr>\n",
       "      <th>day_created</th>\n",
       "      <td>0.000000e+00</td>\n",
       "    </tr>\n",
       "    <tr>\n",
       "      <th>hour_created</th>\n",
       "      <td>0.000000e+00</td>\n",
       "    </tr>\n",
       "  </tbody>\n",
       "</table>\n",
       "</div>"
      ],
      "text/plain": [
       "                                    feature_importance\n",
       "last_session_creation_time                9.766500e-01\n",
       "org_id                                    1.689499e-02\n",
       "creation_source_PERSONAL_PROJECTS         2.634997e-03\n",
       "creation_source_GUEST_INVITE              1.432667e-03\n",
       "enabled_for_marketing_drip                1.223438e-03\n",
       "opted_in_to_mailing_list                  7.433294e-04\n",
       "creation_source_SIGNUP                    4.199003e-04\n",
       "creation_source_ORG_INVITE                6.449306e-07\n",
       "creation_source_SIGNUP_GOOGLE_AUTH        6.288634e-09\n",
       "day_created                               0.000000e+00\n",
       "hour_created                              0.000000e+00"
      ]
     },
     "execution_count": 62,
     "metadata": {},
     "output_type": "execute_result"
    }
   ],
   "source": [
    "# Find feature importances\n",
    "feature_importance = pd.DataFrame(clf.feature_importances_).T\n",
    "feature_importance.columns = list(X_train.columns)\n",
    "feature_importance = feature_importance.T\n",
    "feature_importance.columns = ['feature_importance']\n",
    "feature_importance.sort_values('feature_importance', ascending=False)"
   ]
  },
  {
   "cell_type": "markdown",
   "metadata": {},
   "source": [
    "As can be seen above the most important feature is the most recent log-in time. Below I try some hyperparameter tunning:"
   ]
  },
  {
   "cell_type": "code",
   "execution_count": 64,
   "metadata": {},
   "outputs": [
    {
     "data": {
      "text/plain": [
       "GridSearchCV(cv=5, error_score=nan,\n",
       "             estimator=GradientBoostingClassifier(ccp_alpha=0.0,\n",
       "                                                  criterion='friedman_mse',\n",
       "                                                  init=None, learning_rate=0.1,\n",
       "                                                  loss='deviance', max_depth=8,\n",
       "                                                  max_features='sqrt',\n",
       "                                                  max_leaf_nodes=None,\n",
       "                                                  min_impurity_decrease=0.0,\n",
       "                                                  min_impurity_split=None,\n",
       "                                                  min_samples_leaf=50,\n",
       "                                                  min_samples_split=500,\n",
       "                                                  min_weight_fraction_leaf=0.0,\n",
       "                                                  n_estimators=100,\n",
       "                                                  n_iter_no_change=None,\n",
       "                                                  presort='deprecated',\n",
       "                                                  random_state=2007,\n",
       "                                                  subsample=0.8, tol=0.0001,\n",
       "                                                  validation_fraction=0.1,\n",
       "                                                  verbose=0, warm_start=False),\n",
       "             iid='deprecated', n_jobs=4,\n",
       "             param_grid={'n_estimators': range(20, 81, 10)},\n",
       "             pre_dispatch='2*n_jobs', refit=True, return_train_score=False,\n",
       "             scoring='roc_auc', verbose=0)"
      ]
     },
     "execution_count": 64,
     "metadata": {},
     "output_type": "execute_result"
    }
   ],
   "source": [
    "param_test1 = {'n_estimators':range(20,81,10)}\n",
    "gsearch1 = GridSearchCV(estimator = GradientBoostingClassifier(learning_rate=0.1, \n",
    "                                                                min_samples_split=500,\n",
    "                                                               min_samples_leaf=50,\n",
    "                                                               max_depth=8,\n",
    "                                                               max_features='sqrt',\n",
    "                                                               subsample=0.8,\n",
    "                                                               random_state=2007), \n",
    "param_grid = param_test1, scoring='roc_auc',n_jobs=4, cv=5)\n",
    "\n",
    "gsearch1.fit(X_train,y_train)"
   ]
  },
  {
   "cell_type": "code",
   "execution_count": 72,
   "metadata": {},
   "outputs": [
    {
     "data": {
      "text/plain": [
       "{'mean_fit_time': array([0.10032969, 0.13284431, 0.1859025 , 0.20006557, 0.27606025,\n",
       "        0.2836411 , 0.33789539]),\n",
       " 'std_fit_time': array([0.01711903, 0.02496473, 0.03174997, 0.02653488, 0.04483023,\n",
       "        0.03490755, 0.03936336]),\n",
       " 'mean_score_time': array([0.00438819, 0.00438824, 0.00498681, 0.00498652, 0.004987  ,\n",
       "        0.00618353, 0.0065886 ]),\n",
       " 'std_score_time': array([1.01745766e-03, 4.88305361e-04, 8.92016666e-04, 1.09257988e-03,\n",
       "        2.61174468e-07, 9.77106667e-04, 7.93372471e-04]),\n",
       " 'param_n_estimators': masked_array(data=[20, 30, 40, 50, 60, 70, 80],\n",
       "              mask=[False, False, False, False, False, False, False],\n",
       "        fill_value='?',\n",
       "             dtype=object),\n",
       " 'params': [{'n_estimators': 20},\n",
       "  {'n_estimators': 30},\n",
       "  {'n_estimators': 40},\n",
       "  {'n_estimators': 50},\n",
       "  {'n_estimators': 60},\n",
       "  {'n_estimators': 70},\n",
       "  {'n_estimators': 80}],\n",
       " 'split0_test_score': array([0.88682746, 0.89016608, 0.89279963, 0.89664315, 0.89950526,\n",
       "        0.90194163, 0.90244504]),\n",
       " 'split1_test_score': array([0.8811604 , 0.88012449, 0.88187929, 0.88150868, 0.8826071 ,\n",
       "        0.88490665, 0.88411632]),\n",
       " 'split2_test_score': array([0.89760401, 0.89749833, 0.8995642 , 0.90280589, 0.90639884,\n",
       "        0.9068007 , 0.90868945]),\n",
       " 'split3_test_score': array([0.9158426 , 0.91794866, 0.91378566, 0.91598251, 0.91423218,\n",
       "        0.91567888, 0.91335105]),\n",
       " 'split4_test_score': array([0.88924378, 0.89011449, 0.89339785, 0.89388157, 0.89641182,\n",
       "        0.89705926, 0.89662465]),\n",
       " 'mean_test_score': array([0.89413565, 0.89517041, 0.89628533, 0.89816436, 0.89983104,\n",
       "        0.90127742, 0.9010453 ]),\n",
       " 'std_test_score': array([0.01207409, 0.01265901, 0.01044064, 0.01128803, 0.01057346,\n",
       "        0.0102386 , 0.01017798]),\n",
       " 'rank_test_score': array([7, 6, 5, 4, 3, 1, 2])}"
      ]
     },
     "execution_count": 72,
     "metadata": {},
     "output_type": "execute_result"
    }
   ],
   "source": [
    "gsearch1.cv_results_"
   ]
  },
  {
   "cell_type": "code",
   "execution_count": 74,
   "metadata": {},
   "outputs": [
    {
     "data": {
      "text/plain": [
       "{'mean_fit_time': array([0.2543097 , 0.22807145, 0.22182403, 0.22886291, 0.2122427 ,\n",
       "        0.29929242, 0.2852634 , 0.22938609, 0.22260971, 0.2277072 ,\n",
       "        0.31930046, 0.30305209, 0.28894601, 0.27447343, 0.22531385,\n",
       "        0.39589095, 0.30837493, 0.26927814, 0.29022861, 0.25472541,\n",
       "        0.43059435, 0.37235732, 0.3533947 , 0.30617595, 0.29577632,\n",
       "        0.52805715, 0.42265892, 0.31435966, 0.31733246, 0.26269741]),\n",
       " 'std_fit_time': array([0.0217409 , 0.03364884, 0.01821898, 0.01630454, 0.01328355,\n",
       "        0.03301597, 0.03418619, 0.04064913, 0.03655147, 0.03523201,\n",
       "        0.03613095, 0.06957914, 0.02061007, 0.02636418, 0.02945009,\n",
       "        0.05348092, 0.04594818, 0.02579472, 0.02759276, 0.03044314,\n",
       "        0.03358859, 0.05159066, 0.03602553, 0.03364964, 0.03385441,\n",
       "        0.05788503, 0.09262865, 0.01542978, 0.06039924, 0.03400133]),\n",
       " 'mean_score_time': array([0.00312438, 0.00312428, 0.00312419, 0.0041894 , 0.00498676,\n",
       "        0.00937252, 0.00791154, 0.00578446, 0.00538535, 0.00731311,\n",
       "        0.00624814, 0.00624852, 0.00658855, 0.00598378, 0.00558505,\n",
       "        0.00797863, 0.0071805 , 0.00618353, 0.00658221, 0.00618348,\n",
       "        0.00937314, 0.01116776, 0.01037979, 0.00624828, 0.0103714 ,\n",
       "        0.011168  , 0.00977321, 0.00757995, 0.00758533, 0.00558515]),\n",
       " 'std_score_time': array([0.00624876, 0.00624857, 0.00624838, 0.00212997, 0.00089191,\n",
       "        0.00765263, 0.00390669, 0.00159564, 0.00101686, 0.00421958,\n",
       "        0.00765238, 0.00765285, 0.00135476, 0.00089212, 0.00079774,\n",
       "        0.00154526, 0.00146607, 0.00039868, 0.00048848, 0.00074652,\n",
       "        0.00765314, 0.00614842, 0.00661285, 0.00765255, 0.00661903,\n",
       "        0.00614864, 0.00182813, 0.00173921, 0.00101958, 0.00048848]),\n",
       " 'param_max_depth': masked_array(data=[5, 5, 5, 5, 5, 7, 7, 7, 7, 7, 9, 9, 9, 9, 9, 11, 11,\n",
       "                    11, 11, 11, 13, 13, 13, 13, 13, 15, 15, 15, 15, 15],\n",
       "              mask=[False, False, False, False, False, False, False, False,\n",
       "                    False, False, False, False, False, False, False, False,\n",
       "                    False, False, False, False, False, False, False, False,\n",
       "                    False, False, False, False, False, False],\n",
       "        fill_value='?',\n",
       "             dtype=object),\n",
       " 'param_min_samples_split': masked_array(data=[200, 400, 600, 800, 1000, 200, 400, 600, 800, 1000,\n",
       "                    200, 400, 600, 800, 1000, 200, 400, 600, 800, 1000,\n",
       "                    200, 400, 600, 800, 1000, 200, 400, 600, 800, 1000],\n",
       "              mask=[False, False, False, False, False, False, False, False,\n",
       "                    False, False, False, False, False, False, False, False,\n",
       "                    False, False, False, False, False, False, False, False,\n",
       "                    False, False, False, False, False, False],\n",
       "        fill_value='?',\n",
       "             dtype=object),\n",
       " 'params': [{'max_depth': 5, 'min_samples_split': 200},\n",
       "  {'max_depth': 5, 'min_samples_split': 400},\n",
       "  {'max_depth': 5, 'min_samples_split': 600},\n",
       "  {'max_depth': 5, 'min_samples_split': 800},\n",
       "  {'max_depth': 5, 'min_samples_split': 1000},\n",
       "  {'max_depth': 7, 'min_samples_split': 200},\n",
       "  {'max_depth': 7, 'min_samples_split': 400},\n",
       "  {'max_depth': 7, 'min_samples_split': 600},\n",
       "  {'max_depth': 7, 'min_samples_split': 800},\n",
       "  {'max_depth': 7, 'min_samples_split': 1000},\n",
       "  {'max_depth': 9, 'min_samples_split': 200},\n",
       "  {'max_depth': 9, 'min_samples_split': 400},\n",
       "  {'max_depth': 9, 'min_samples_split': 600},\n",
       "  {'max_depth': 9, 'min_samples_split': 800},\n",
       "  {'max_depth': 9, 'min_samples_split': 1000},\n",
       "  {'max_depth': 11, 'min_samples_split': 200},\n",
       "  {'max_depth': 11, 'min_samples_split': 400},\n",
       "  {'max_depth': 11, 'min_samples_split': 600},\n",
       "  {'max_depth': 11, 'min_samples_split': 800},\n",
       "  {'max_depth': 11, 'min_samples_split': 1000},\n",
       "  {'max_depth': 13, 'min_samples_split': 200},\n",
       "  {'max_depth': 13, 'min_samples_split': 400},\n",
       "  {'max_depth': 13, 'min_samples_split': 600},\n",
       "  {'max_depth': 13, 'min_samples_split': 800},\n",
       "  {'max_depth': 13, 'min_samples_split': 1000},\n",
       "  {'max_depth': 15, 'min_samples_split': 200},\n",
       "  {'max_depth': 15, 'min_samples_split': 400},\n",
       "  {'max_depth': 15, 'min_samples_split': 600},\n",
       "  {'max_depth': 15, 'min_samples_split': 800},\n",
       "  {'max_depth': 15, 'min_samples_split': 1000}],\n",
       " 'split0_test_score': array([0.89707934, 0.8981967 , 0.89713611, 0.89566472, 0.89583501,\n",
       "        0.89342254, 0.90113349, 0.89135812, 0.89152095, 0.89492231,\n",
       "        0.89849396, 0.89992651, 0.90082577, 0.90406729, 0.89869712,\n",
       "        0.89212593, 0.90105133, 0.90282147, 0.90005945, 0.89874044,\n",
       "        0.89305358, 0.89535252, 0.89829678, 0.90195059, 0.90038809,\n",
       "        0.89216626, 0.90107971, 0.90210893, 0.9007705 , 0.89937828]),\n",
       " 'split1_test_score': array([0.88686089, 0.88345101, 0.8856687 , 0.87447907, 0.8704664 ,\n",
       "        0.87687089, 0.88306404, 0.88058142, 0.88112617, 0.88145063,\n",
       "        0.88225585, 0.88179296, 0.88023016, 0.88470125, 0.87900969,\n",
       "        0.87951276, 0.88647093, 0.88321436, 0.8793029 , 0.88427409,\n",
       "        0.87609098, 0.8826205 , 0.87815387, 0.880891  , 0.88477567,\n",
       "        0.87848132, 0.87559237, 0.87825955, 0.88114998, 0.8828378 ]),\n",
       " 'split2_test_score': array([0.89871136, 0.89932011, 0.89570186, 0.9051873 , 0.90394152,\n",
       "        0.90165835, 0.90807475, 0.90170598, 0.90305296, 0.90082635,\n",
       "        0.89481627, 0.90127584, 0.90338785, 0.90141426, 0.90426153,\n",
       "        0.8995523 , 0.89510502, 0.89932606, 0.89954337, 0.90196942,\n",
       "        0.89478055, 0.90061797, 0.90047807, 0.90012532, 0.90506376,\n",
       "        0.89367171, 0.89323413, 0.89767396, 0.89773201, 0.90197091]),\n",
       " 'split3_test_score': array([0.91379162, 0.91415776, 0.91459832, 0.91343292, 0.91948764,\n",
       "        0.90833968, 0.91428129, 0.91289115, 0.91692465, 0.91867499,\n",
       "        0.91113337, 0.9075687 , 0.91102621, 0.91183291, 0.91384371,\n",
       "        0.90475567, 0.90598358, 0.9139985 , 0.91121821, 0.9148305 ,\n",
       "        0.90445204, 0.90714452, 0.91200556, 0.91439143, 0.90835606,\n",
       "        0.90034262, 0.90731568, 0.91068388, 0.91156947, 0.91222733]),\n",
       " 'split4_test_score': array([0.89248547, 0.89404827, 0.89601144, 0.89203598, 0.89028267,\n",
       "        0.89408846, 0.89446502, 0.89501125, 0.89217291, 0.88962927,\n",
       "        0.88776285, 0.89164007, 0.89446651, 0.89284864, 0.88801141,\n",
       "        0.88734461, 0.88645754, 0.89379078, 0.8885755 , 0.89067709,\n",
       "        0.88617772, 0.89081105, 0.88777029, 0.88942239, 0.89023802,\n",
       "        0.87919127, 0.88896248, 0.88989421, 0.89219673, 0.89095989]),\n",
       " 'mean_test_score': array([0.89778574, 0.89783477, 0.89782328, 0.89616   , 0.89600265,\n",
       "        0.89487599, 0.90020372, 0.89630958, 0.89695953, 0.89710071,\n",
       "        0.89489246, 0.89644082, 0.8979873 , 0.89897287, 0.89676469,\n",
       "        0.89265825, 0.89501368, 0.89863024, 0.89573989, 0.89809831,\n",
       "        0.89091097, 0.89530931, 0.89534091, 0.89735615, 0.89776432,\n",
       "        0.88877064, 0.89323687, 0.89572411, 0.89668374, 0.89747484]),\n",
       " 'std_test_score': array([0.00899988, 0.00989957, 0.00935298, 0.01316937, 0.0161209 ,\n",
       "        0.01052794, 0.01084156, 0.01074846, 0.01215665, 0.01252855,\n",
       "        0.00987177, 0.00891027, 0.01034358, 0.00936461, 0.01219418,\n",
       "        0.00889041, 0.00778442, 0.01015188, 0.01090143, 0.01040719,\n",
       "        0.00943356, 0.00836058, 0.0115373 , 0.01142824, 0.00891853,\n",
       "        0.0085685 , 0.01085653, 0.01102145, 0.01000816, 0.00998159]),\n",
       " 'rank_test_score': array([ 8,  6,  7, 18, 19, 26,  1, 17, 13, 12, 25, 16,  5,  2, 14, 28, 24,\n",
       "         3, 20,  4, 29, 23, 22, 11,  9, 30, 27, 21, 15, 10])}"
      ]
     },
     "execution_count": 74,
     "metadata": {},
     "output_type": "execute_result"
    }
   ],
   "source": [
    "param_test2 = {'max_depth':range(5,16,2), 'min_samples_split':range(200,1001,200)}\n",
    "\n",
    "gsearch2 = GridSearchCV(estimator = GradientBoostingClassifier(learning_rate=0.1, \n",
    "                                                               n_estimators=60, \n",
    "                                                               max_features='sqrt', \n",
    "                                                               subsample=0.8, \n",
    "                                                               random_state=2007), \n",
    "param_grid = param_test2, scoring='roc_auc',n_jobs=4, cv=5)\n",
    "\n",
    "gsearch2.fit(X_train,y_train)\n",
    "\n",
    "gsearch2.cv_results_"
   ]
  },
  {
   "cell_type": "code",
   "execution_count": 76,
   "metadata": {},
   "outputs": [],
   "source": [
    "clf_tuned = GradientBoostingClassifier(learning_rate=0.05, \n",
    "                                       n_estimators=70, \n",
    "                                       max_features='auto', \n",
    "                                       subsample=0.85,\n",
    "                                       max_depth= 6,\n",
    "                                       min_samples_split= 800,\n",
    "                                       random_state=2007,\n",
    "                                       verbose=True)"
   ]
  },
  {
   "cell_type": "code",
   "execution_count": 77,
   "metadata": {},
   "outputs": [
    {
     "name": "stdout",
     "output_type": "stream",
     "text": [
      "      Iter       Train Loss      OOB Improve   Remaining Time \n",
      "         1           0.7515           0.0514            0.60s\n",
      "         2           0.7088           0.0396            0.63s\n",
      "         3           0.6850           0.0263            0.62s\n",
      "         4           0.6612           0.0259            0.62s\n",
      "         5           0.6324           0.0237            0.66s\n",
      "         6           0.6222           0.0197            0.66s\n",
      "         7           0.6036           0.0147            0.66s\n",
      "         8           0.5838           0.0155            0.66s\n",
      "         9           0.5808           0.0121            0.67s\n",
      "        10           0.5586           0.0127            0.66s\n",
      "        20           0.4787           0.0055            0.50s\n",
      "        30           0.4495           0.0017            0.37s\n",
      "        40           0.4172           0.0004            0.29s\n",
      "        50           0.4080           0.0002            0.19s\n",
      "        60           0.4133           0.0004            0.10s\n",
      "        70           0.4013           0.0001            0.00s\n"
     ]
    },
    {
     "data": {
      "text/plain": [
       "GradientBoostingClassifier(ccp_alpha=0.0, criterion='friedman_mse', init=None,\n",
       "                           learning_rate=0.05, loss='deviance', max_depth=6,\n",
       "                           max_features='auto', max_leaf_nodes=None,\n",
       "                           min_impurity_decrease=0.0, min_impurity_split=None,\n",
       "                           min_samples_leaf=1, min_samples_split=800,\n",
       "                           min_weight_fraction_leaf=0.0, n_estimators=70,\n",
       "                           n_iter_no_change=None, presort='deprecated',\n",
       "                           random_state=2007, subsample=0.85, tol=0.0001,\n",
       "                           validation_fraction=0.1, verbose=True,\n",
       "                           warm_start=False)"
      ]
     },
     "execution_count": 77,
     "metadata": {},
     "output_type": "execute_result"
    }
   ],
   "source": [
    "clf_tuned.fit(X_train,y_train)"
   ]
  },
  {
   "cell_type": "code",
   "execution_count": 78,
   "metadata": {},
   "outputs": [
    {
     "name": "stdout",
     "output_type": "stream",
     "text": [
      "Train Score: 0.925\n",
      "Test Score: 0.915\n"
     ]
    }
   ],
   "source": [
    "print('Train Score:', round(clf_tuned.score(X_train,y_train),3))\n",
    "print('Test Score:', round(clf_tuned.score(X_test,y_test),3))"
   ]
  },
  {
   "cell_type": "markdown",
   "metadata": {},
   "source": [
    "# Conclusion:"
   ]
  },
  {
   "cell_type": "markdown",
   "metadata": {},
   "source": [
    "With approximatly **81%** of the userbase no considered non adoptive users, we have an obvious area for improvment in user engagment. This is also exemplified by the fact that we have several thousand users who, after creating an account, never engaged with the system (loged in). From the feature importances the last log in time was the most highly correlated with a positive prediction, which is not surprising. However, I am not certain how useful the is as a real world predictor as those who have logged in more recently are more likely to be in the engaged crowed, and thus this dilutes its usefulness as a predictor of whether or not a novel user will become an adopted user. My recommendations at this point would be to identify the top sources of engaged users (sign-up origin) and increase marketing efforts there. Further, we can conduct more detailed surveys amoungst adopted users to attempt to identify new commonfeatures to add to the model that may increase its validity. "
   ]
  },
  {
   "cell_type": "code",
   "execution_count": null,
   "metadata": {
    "collapsed": true
   },
   "outputs": [],
   "source": []
  }
 ],
 "metadata": {
  "kernelspec": {
   "display_name": "Python 3",
   "language": "python",
   "name": "python3"
  },
  "language_info": {
   "codemirror_mode": {
    "name": "ipython",
    "version": 3
   },
   "file_extension": ".py",
   "mimetype": "text/x-python",
   "name": "python",
   "nbconvert_exporter": "python",
   "pygments_lexer": "ipython3",
   "version": "3.7.0"
  }
 },
 "nbformat": 4,
 "nbformat_minor": 2
}
