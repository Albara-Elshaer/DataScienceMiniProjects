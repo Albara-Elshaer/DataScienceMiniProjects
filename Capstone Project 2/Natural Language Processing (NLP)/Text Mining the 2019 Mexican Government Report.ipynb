{
 "cells": [
  {
   "cell_type": "code",
   "execution_count": 1,
   "metadata": {},
   "outputs": [],
   "source": [
    "import PyPDF2\n",
    "import spacy\n",
    "import numpy as np \n",
    "import pandas as pd\n",
    "import matplotlib.pyplot as plt\n",
    "import seaborn as sns\n",
    "import geopandas\n",
    "import csv\n",
    "%matplotlib inline"
   ]
  },
  {
   "cell_type": "code",
   "execution_count": 2,
   "metadata": {},
   "outputs": [
    {
     "name": "stderr",
     "output_type": "stream",
     "text": [
      "PdfReadWarning: Xref table not zero-indexed. ID numbers for objects will be corrected. [pdf.py:1736]\n"
     ]
    }
   ],
   "source": [
    "pdf= PyPDF2.PdfFileReader(\"Informe_Gobierno_de_Mexico.pdf\")\n",
    "\n",
    "full_text= \"\""
   ]
  },
  {
   "cell_type": "markdown",
   "metadata": {},
   "source": [
    "The page numbers in the PDF are not the same as the reported number of pages, we use this variable to keep track of both."
   ]
  },
  {
   "cell_type": "code",
   "execution_count": 3,
   "metadata": {},
   "outputs": [],
   "source": [
    "pdf_pg_number= 3 "
   ]
  },
  {
   "cell_type": "markdown",
   "metadata": {},
   "source": [
    "We will only retrieve the first 3 sections of the government report which are between pages 14 and 326. The reason for this is that only the 3 first sections contain a substantial amount of text."
   ]
  },
  {
   "cell_type": "code",
   "execution_count": 4,
   "metadata": {},
   "outputs": [],
   "source": [
    "# This block is used to remove the page numbers \n",
    "for i in range(14, 327):\n",
    "    if pdf_pg_number <= 9:\n",
    "        page_text = pdf.getPage(i).extractText().strip()[1:]\n",
    "        \n",
    "    elif pdf_pg_number >= 10 and pdf_pg_number <= 99:\n",
    "        page_text = pdf.getPage(i).extractText().strip()[2:]\n",
    "        \n",
    "    else:\n",
    "        page_text = pdf.getPage(i).extractText().strip()[3:]\n",
    "\n",
    "    full_text += page_text.replace(\"\\n\", \"\")\n",
    "    pdf_pg_number += 1\n",
    "    "
   ]
  },
  {
   "cell_type": "markdown",
   "metadata": {},
   "source": [
    "The previous code block ensures that the output is the cleanest as possible. It removes page numbers and builds us the full transcript to a single string.\n",
    "\n",
    "Next below,I manually fix all the weird characters with their correct equivalents."
   ]
  },
  {
   "cell_type": "code",
   "execution_count": 5,
   "metadata": {},
   "outputs": [],
   "source": [
    "CHARACTERS = {\"ç\": \"Á\",\n",
    "              \"⁄\": \"á\",\n",
    "              \"…\": \"É\",\n",
    "              \"”\": \"é\",\n",
    "              \"ê\": \"Í\",\n",
    "              \"™\": 'í',\n",
    "              \"î\": \"Ó\"}\n",
    "\n",
    "for item, replacement in CHARACTERS.items():\n",
    "    full_text= full_text.replace(item, replacement)"
   ]
  },
  {
   "cell_type": "code",
   "execution_count": 6,
   "metadata": {},
   "outputs": [],
   "source": [
    "# Remove all extra white spaces and finally we save the cleaned text into a .txt file.\n",
    "full_text = full_text.replace(\"  \", \" \").replace(\"  \", \" \").replace(\"  \", \" \")\n",
    "\n",
    "with open(\"transcript_clean.txt\", \"w\", encoding=\"utf-8\") as temp_file:\n",
    "    temp_file.write(full_text)"
   ]
  },
  {
   "cell_type": "markdown",
   "metadata": {},
   "source": [
    "Installed the Spanish Model (`es_core_news_md`) and start preparing the corpus with the loaded Spanish Model"
   ]
  },
  {
   "cell_type": "code",
   "execution_count": 7,
   "metadata": {},
   "outputs": [],
   "source": [
    "import es_core_news_md\n",
    "nlp = es_core_news_md.load()\n",
    "\n",
    "corpus = open(\"transcript_clean.txt\", \"r\", encoding=\"utf-8\").read()\n",
    "\n",
    "\n",
    "# Corpus is bigger than the default limit, thus a new limit is set equal to its length.\n",
    "\n",
    "nlp.max_length = len(corpus)\n",
    "\n",
    "doc = nlp(corpus)"
   ]
  },
  {
   "cell_type": "markdown",
   "metadata": {},
   "source": [
    "## Text Tokens"
   ]
  },
  {
   "cell_type": "markdown",
   "metadata": {},
   "source": [
    "The code below is pretty straight forward. \n",
    "\n",
    "First I intialize a list with a header row. Then, I iterate over the document, which in this case is the `doc` object, and add the following tokens to the data list and save it to csv using `csv.writer()`:\n",
    "* text\n",
    "* lemma\n",
    "* part-of-speech\n",
    "* other properties "
   ]
  },
  {
   "cell_type": "code",
   "execution_count": 8,
   "metadata": {},
   "outputs": [],
   "source": [
    "data_list = [[\"text\", \"text_lower\", \"lemma\", \"lemma_lower\",\n",
    "                \"part_of_speech\", \"is_alphabet\", \"is_stopword\"]]\n",
    "\n",
    "for token in doc:\n",
    "    data_list.append([token.text, token.lower_, token.lemma_, token.lemma_.lower(), token.pos_, token.is_alpha, \n",
    "                      token.is_stop])\n",
    "\n",
    "csv.writer(open(\"./tokens.csv\", \"w\", encoding=\"utf-8\", newline=\"\")).writerows(data_list)"
   ]
  },
  {
   "cell_type": "markdown",
   "metadata": {},
   "source": [
    "It is important to note that a token is not always a word, it can be a punctuation mark or a number. That's why the `is_alpha` property is saved so that I can later filter out non-alphabetic tokens.\n",
    "\n",
    "I also saved the lowercase form of all tokens and lemmas so I don't have to do it every time we want to process them with pandas."
   ]
  },
  {
   "cell_type": "markdown",
   "metadata": {},
   "source": [
    "## Text Entities"
   ]
  },
  {
   "cell_type": "markdown",
   "metadata": {},
   "source": [
    "This is almost the same as the previous code block, the main difference is that we iterate over the `doc.ents` object. Entities refer to real world persons, organizations or locations. Since the model was trained from `Wikipedia` I will get a broad amount of them."
   ]
  },
  {
   "cell_type": "code",
   "execution_count": 9,
   "metadata": {},
   "outputs": [],
   "source": [
    "data_list = [[\"text\", \"text_lower\", \"label\"]]\n",
    "\n",
    "for ent in doc.ents:\n",
    "    data_list.append([ent.text, ent.lower_, ent.label_])\n",
    "\n",
    "csv.writer(open(\"./entities.csv\", \"w\", encoding=\"utf-8\", newline=\"\")).writerows(data_list)"
   ]
  },
  {
   "cell_type": "markdown",
   "metadata": {},
   "source": [
    "## Text Sentences"
   ]
  },
  {
   "cell_type": "markdown",
   "metadata": {},
   "source": [
    "This function is a bit different than the previous ones, in this part I counted the number of positive and negative words per sentence.\n",
    "\n",
    "I used the following dataset of positive and negative words from [Sentiment Lexicons for 81 Languages](https://www.kaggle.com/rtatman/sentiment-lexicons-for-81-languages):\n",
    "* `negative_words_es.txt`\n",
    "* `positive_words_es.txt`"
   ]
  },
  {
   "cell_type": "code",
   "execution_count": 10,
   "metadata": {},
   "outputs": [],
   "source": [
    "with open(\"positive_words_es.txt\", \"r\", encoding=\"utf-8\") as temp_file:\n",
    "    positive_words = temp_file.read().splitlines()\n",
    "\n",
    "with open(\"negative_words_es.txt\", \"r\", encoding=\"utf-8\") as temp_file:\n",
    "    negative_words = temp_file.read().splitlines()"
   ]
  },
  {
   "cell_type": "markdown",
   "metadata": {},
   "source": [
    "Now I iterate over the doc.sents object and keep a score for each sentence and save the results to csv, which can be analyzed with `pandas` and plotted with `matplotlib` :"
   ]
  },
  {
   "cell_type": "code",
   "execution_count": 11,
   "metadata": {},
   "outputs": [],
   "source": [
    "data_list = [[\"text\", \"score\"]]\n",
    "\n",
    "for sent in doc.sents:\n",
    "\n",
    "    # Only take into account real sentences.\n",
    "    if len(sent.text) > 10:\n",
    "\n",
    "        score = 0\n",
    "\n",
    "        # Start scoring the sentence.\n",
    "        for word in sent:\n",
    "\n",
    "            if word.lower_ in positive_words:\n",
    "                score += 1\n",
    "\n",
    "            if word.lower_ in negative_words:\n",
    "                score -= 1\n",
    "\n",
    "        data_list.append([sent.text, score])\n",
    "\n",
    "csv.writer(open(\"./sentences.csv\", \"w\", encoding=\"utf-8\",\n",
    "                newline=\"\")).writerows(data_list)"
   ]
  },
  {
   "cell_type": "markdown",
   "metadata": {},
   "source": [
    "***"
   ]
  },
  {
   "cell_type": "markdown",
   "metadata": {},
   "source": [
    "## Visualizing The Data"
   ]
  },
  {
   "cell_type": "markdown",
   "metadata": {},
   "source": [
    "#### Plotting Horizontal Bar Graph of Most Frequent Words"
   ]
  },
  {
   "cell_type": "code",
   "execution_count": 13,
   "metadata": {},
   "outputs": [],
   "source": [
    "# Start by loading the tokens csv file into a DataFrame\n",
    "df= pd.read_csv(r\"C:\\Users\\Bara Elshaer\\Documents\\Python\\Data Science\\Capstone Project\\Main Capstone Project Two\\tokens.csv\")"
   ]
  },
  {
   "cell_type": "code",
   "execution_count": 14,
   "metadata": {},
   "outputs": [
    {
     "data": {
      "text/html": [
       "<div>\n",
       "<style scoped>\n",
       "    .dataframe tbody tr th:only-of-type {\n",
       "        vertical-align: middle;\n",
       "    }\n",
       "\n",
       "    .dataframe tbody tr th {\n",
       "        vertical-align: top;\n",
       "    }\n",
       "\n",
       "    .dataframe thead th {\n",
       "        text-align: right;\n",
       "    }\n",
       "</style>\n",
       "<table border=\"1\" class=\"dataframe\">\n",
       "  <thead>\n",
       "    <tr style=\"text-align: right;\">\n",
       "      <th></th>\n",
       "      <th>text</th>\n",
       "      <th>text_lower</th>\n",
       "      <th>lemma</th>\n",
       "      <th>lemma_lower</th>\n",
       "      <th>part_of_speech</th>\n",
       "      <th>is_alphabet</th>\n",
       "      <th>is_stopword</th>\n",
       "    </tr>\n",
       "  </thead>\n",
       "  <tbody>\n",
       "    <tr>\n",
       "      <th>0</th>\n",
       "      <td>1</td>\n",
       "      <td>1</td>\n",
       "      <td>1</td>\n",
       "      <td>1</td>\n",
       "      <td>NUM</td>\n",
       "      <td>False</td>\n",
       "      <td>False</td>\n",
       "    </tr>\n",
       "    <tr>\n",
       "      <th>1</th>\n",
       "      <td>.</td>\n",
       "      <td>.</td>\n",
       "      <td>.</td>\n",
       "      <td>.</td>\n",
       "      <td>PUNCT</td>\n",
       "      <td>False</td>\n",
       "      <td>False</td>\n",
       "    </tr>\n",
       "    <tr>\n",
       "      <th>2</th>\n",
       "      <td>POLÍTICA</td>\n",
       "      <td>política</td>\n",
       "      <td>POLÍTICA</td>\n",
       "      <td>política</td>\n",
       "      <td>NOUN</td>\n",
       "      <td>True</td>\n",
       "      <td>False</td>\n",
       "    </tr>\n",
       "    <tr>\n",
       "      <th>3</th>\n",
       "      <td>Y</td>\n",
       "      <td>y</td>\n",
       "      <td>Y</td>\n",
       "      <td>y</td>\n",
       "      <td>CONJ</td>\n",
       "      <td>True</td>\n",
       "      <td>False</td>\n",
       "    </tr>\n",
       "    <tr>\n",
       "      <th>4</th>\n",
       "      <td>GOBIERNO</td>\n",
       "      <td>gobierno</td>\n",
       "      <td>GOBIERNO</td>\n",
       "      <td>gobierno</td>\n",
       "      <td>PROPN</td>\n",
       "      <td>True</td>\n",
       "      <td>False</td>\n",
       "    </tr>\n",
       "  </tbody>\n",
       "</table>\n",
       "</div>"
      ],
      "text/plain": [
       "       text text_lower     lemma lemma_lower part_of_speech  is_alphabet  \\\n",
       "0         1          1         1           1            NUM        False   \n",
       "1         .          .         .           .          PUNCT        False   \n",
       "2  POLÍTICA   política  POLÍTICA    política           NOUN         True   \n",
       "3         Y          y         Y           y           CONJ         True   \n",
       "4  GOBIERNO   gobierno  GOBIERNO    gobierno          PROPN         True   \n",
       "\n",
       "   is_stopword  \n",
       "0        False  \n",
       "1        False  \n",
       "2        False  \n",
       "3        False  \n",
       "4        False  "
      ]
     },
     "execution_count": 14,
     "metadata": {},
     "output_type": "execute_result"
    }
   ],
   "source": [
    "df.head()"
   ]
  },
  {
   "cell_type": "code",
   "execution_count": 15,
   "metadata": {},
   "outputs": [],
   "source": [
    "# Grouping together \"programa\" and \"programar\"\n",
    "df.loc[df[\"lemma_lower\"] == \"programa\", \"lemma_lower\"] = \"programar\""
   ]
  },
  {
   "cell_type": "code",
   "execution_count": 16,
   "metadata": {},
   "outputs": [],
   "source": [
    "# Considering the top 20 alphabets tokens that are longer than 1 character and are not stop words\n",
    "\n",
    "words = df[(df[\"is_alphabet\"] == True) & (df[\"is_stopword\"] == False) & (\n",
    "    df[\"lemma_lower\"].str.len() > 1)][\"lemma_lower\"].value_counts()[:20]"
   ]
  },
  {
   "cell_type": "code",
   "execution_count": 17,
   "metadata": {},
   "outputs": [],
   "source": [
    "sns.set(style=\"ticks\",\n",
    "    rc={\"figure.figsize\": [14, 9],\n",
    "        \"text.color\": \"black\",\n",
    "        \"axes.labelcolor\": \"black\",\n",
    "        \"axes.edgecolor\": \"black\",\n",
    "        \"xtick.color\": \"black\",\n",
    "        \"ytick.color\": \"black\",\n",
    "        \"axes.facecolor\": \"white\",\n",
    "        \"figure.facecolor\": \"white\"})"
   ]
  },
  {
   "cell_type": "code",
   "execution_count": 29,
   "metadata": {},
   "outputs": [
    {
     "data": {
      "text/plain": [
       "Text(0.5, 1.0, 'Most Frequent Words')"
      ]
     },
     "execution_count": 29,
     "metadata": {},
     "output_type": "execute_result"
    },
    {
     "data": {
      "image/png": "[encoded data removed]",
      "text/plain": [
       "<Figure size 1008x648 with 1 Axes>"
      ]
     },
     "metadata": {},
     "output_type": "display_data"
    }
   ],
   "source": [
    "# Use seaborn barplot to visiulize the most frequent words\n",
    "sns.barplot(x=words.values, y=words.index, palette=\"Blues_d\", linewidth=0)\n",
    "plt.xlabel(\"Count\")\n",
    "plt.title(\"Most Frequent Words\")\n"
   ]
  },
  {
   "cell_type": "markdown",
   "metadata": {},
   "source": [
    "#### Plotting Mentions per Mexican State"
   ]
  },
  {
   "cell_type": "code",
   "execution_count": 19,
   "metadata": {},
   "outputs": [],
   "source": [
    "df_e= pd.read_csv(r\"C:\\Users\\Bara Elshaer\\Documents\\Python\\Data Science\\Capstone Project\\Main Capstone Project Two\\entities.csv\")\n",
    "mexico_df= geopandas.read_file(r\"C:\\Users\\Bara Elshaer\\Documents\\Python\\Data Science\\Capstone Project\\Main Capstone Project Two\\mexstates\")"
   ]
  },
  {
   "cell_type": "code",
   "execution_count": 20,
   "metadata": {},
   "outputs": [
    {
     "data": {
      "text/html": [
       "<div>\n",
       "<style scoped>\n",
       "    .dataframe tbody tr th:only-of-type {\n",
       "        vertical-align: middle;\n",
       "    }\n",
       "\n",
       "    .dataframe tbody tr th {\n",
       "        vertical-align: top;\n",
       "    }\n",
       "\n",
       "    .dataframe thead th {\n",
       "        text-align: right;\n",
       "    }\n",
       "</style>\n",
       "<table border=\"1\" class=\"dataframe\">\n",
       "  <thead>\n",
       "    <tr style=\"text-align: right;\">\n",
       "      <th></th>\n",
       "      <th>text</th>\n",
       "      <th>text_lower</th>\n",
       "      <th>label</th>\n",
       "    </tr>\n",
       "  </thead>\n",
       "  <tbody>\n",
       "    <tr>\n",
       "      <th>0</th>\n",
       "      <td>1</td>\n",
       "      <td>1</td>\n",
       "      <td>LOC</td>\n",
       "    </tr>\n",
       "    <tr>\n",
       "      <th>1</th>\n",
       "      <td>Y GOBIERNO La Cuarta TransformaciŠn</td>\n",
       "      <td>y gobierno la cuarta transformacišn</td>\n",
       "      <td>LOC</td>\n",
       "    </tr>\n",
       "    <tr>\n",
       "      <th>2</th>\n",
       "      <td>Ejecutivo Federal</td>\n",
       "      <td>ejecutivo federal</td>\n",
       "      <td>LOC</td>\n",
       "    </tr>\n",
       "    <tr>\n",
       "      <th>3</th>\n",
       "      <td>Gobierno Federal</td>\n",
       "      <td>gobierno federal</td>\n",
       "      <td>LOC</td>\n",
       "    </tr>\n",
       "    <tr>\n",
       "      <th>4</th>\n",
       "      <td>Šrdenes</td>\n",
       "      <td>šrdenes</td>\n",
       "      <td>PER</td>\n",
       "    </tr>\n",
       "  </tbody>\n",
       "</table>\n",
       "</div>"
      ],
      "text/plain": [
       "                                  text                           text_lower  \\\n",
       "0                                    1                                    1   \n",
       "1  Y GOBIERNO La Cuarta TransformaciŠn  y gobierno la cuarta transformacišn   \n",
       "2                    Ejecutivo Federal                    ejecutivo federal   \n",
       "3                     Gobierno Federal                     gobierno federal   \n",
       "4                              Šrdenes                              šrdenes   \n",
       "\n",
       "  label  \n",
       "0   LOC  \n",
       "1   LOC  \n",
       "2   LOC  \n",
       "3   LOC  \n",
       "4   PER  "
      ]
     },
     "execution_count": 20,
     "metadata": {},
     "output_type": "execute_result"
    }
   ],
   "source": [
    "df_e.head()"
   ]
  },
  {
   "cell_type": "code",
   "execution_count": 21,
   "metadata": {},
   "outputs": [],
   "source": [
    "STATES = [\"Aguascalientes\",\n",
    "    \"Baja California\",\n",
    "    \"Baja California Sur\",\n",
    "    \"Campeche\",\n",
    "    \"Chiapas\",\n",
    "    \"Chihuahua\",\n",
    "    \"Ciudad de México\",\n",
    "    \"Coahuila\",\n",
    "    \"Colima\",\n",
    "    \"Durango\",\n",
    "    \"Estado de México\",\n",
    "    \"Guanajuato\",\n",
    "    \"Guerrero\",\n",
    "    \"Hidalgo\",\n",
    "    \"Jalisco\",\n",
    "    \"Michoacán\",\n",
    "    \"Morelos\",\n",
    "    \"Nayarit\",\n",
    "    \"Nuevo León\",\n",
    "    \"Oaxaca\",\n",
    "    \"Puebla\",\n",
    "    \"Querétaro\",\n",
    "    \"Quintana Roo\",\n",
    "    \"San Luis Potosí\",\n",
    "    \"Sinaloa\",\n",
    "    \"Sonora\",\n",
    "    \"Tabasco\",\n",
    "    \"Tamaulipas\",\n",
    "    \"Tlaxcala\",\n",
    "    \"Veracruz\",\n",
    "    \"Yucatán\",\n",
    "    \"Zacatecas\"]"
   ]
  },
  {
   "cell_type": "code",
   "execution_count": 22,
   "metadata": {},
   "outputs": [],
   "source": [
    "def get_entity_counts(df):\n",
    "    \n",
    "    entities=df[\"label\"].value_counts()\n",
    "    print(entities)\n",
    "    \n",
    "    locations=df[df[\"label\"]==\"ORG\"][\"text\"].value_counts()\n",
    "    print(locations)\n",
    "    "
   ]
  },
  {
   "cell_type": "code",
   "execution_count": 23,
   "metadata": {},
   "outputs": [],
   "source": [
    "def get_state_counts(df):\n",
    "    \n",
    "    total_count=0\n",
    "    state_counts= list()\n",
    "    \n",
    "    for state in STATES:\n",
    "        \n",
    "        state_count = len(df[df[\"text_lower\"] == state.lower()])\n",
    "\n",
    "        state_counts.append([state, state_count])\n",
    "        total_count += state_count\n",
    "\n",
    "    state_counts.sort(key=lambda x: x[1])\n",
    "\n",
    "    print(state_counts)\n",
    "    print(total_count)"
   ]
  },
  {
   "cell_type": "code",
   "execution_count": 24,
   "metadata": {},
   "outputs": [],
   "source": [
    "def plot_map(df):\n",
    "    \n",
    "    for state in STATES:\n",
    "\n",
    "        # Remove accent marks and rename Ciudad de Mexico to its former name.\n",
    "        clean_name = clean_word(state)\n",
    "\n",
    "        if clean_name == \"Ciudad de Mexico\":\n",
    "             clean_name = \"Distrito Federal\"\n",
    "        elif clean_name == \"Estado de Mexico\":\n",
    "             clean_name = \"Mexico\"\n",
    "            \n",
    "         # Insert the count value into the row with the matching ADMIN_NAME (state name).\n",
    "        mexico_df.loc[mexico_df[\"ADMIN_NAME\"] == clean_name, \"count\"] = len(df[df[\"text_lower\"] == state.lower()])\n",
    "\n",
    "    plt.rcParams[\"figure.figsize\"] = [12, 8]\n",
    "\n",
    "    mexico_df.plot(column=\"count\", cmap=\"plasma\", legend=True)\n",
    "    \n",
    "    plt.title(\"Mentions by State\")\n",
    "    plt.axis(\"off\")\n",
    "    plt.tight_layout()\n",
    "    "
   ]
  },
  {
   "cell_type": "code",
   "execution_count": 25,
   "metadata": {},
   "outputs": [],
   "source": [
    "ACCENT_MARKS = [\"á\", \"Á\", \"é\", \"É\", \"í\", \"Í\", \"ó\", \"Ó\", \"ú\", \"Ú\"]\n",
    "FRIENDLY_MARKS = [\"a\", \"A\", \"e\", \"E\", \"i\", \"I\", \"o\", \"O\", \"u\", \"U\"]\n",
    "\n",
    "def clean_word(word):\n",
    "    \n",
    "    for index, char in enumerate(ACCENT_MARKS):\n",
    "        word= word.replace(char, FRIENDLY_MARKS[index])\n",
    "        \n",
    "    return word"
   ]
  },
  {
   "cell_type": "code",
   "execution_count": 19,
   "metadata": {
    "scrolled": false
   },
   "outputs": [
    {
     "data": {
      "image/png": "[encoded data removed]",
      "text/plain": [
       "<Figure size 864x576 with 2 Axes>"
      ]
     },
     "metadata": {
      "needs_background": "light"
     },
     "output_type": "display_data"
    }
   ],
   "source": [
    "plot_map(df_e)"
   ]
  },
  {
   "cell_type": "markdown",
   "metadata": {},
   "source": [
    "#### Generating Bar Plot with Sentiment Scores of Each Sentence"
   ]
  },
  {
   "cell_type": "code",
   "execution_count": 26,
   "metadata": {},
   "outputs": [],
   "source": [
    "df_sentences= pd.read_csv(r\"C:\\Users\\Bara Elshaer\\Documents\\Python\\Data Science\\Capstone Project\\Main Capstone Project Two\\sentences.csv\")"
   ]
  },
  {
   "cell_type": "code",
   "execution_count": 28,
   "metadata": {},
   "outputs": [
    {
     "data": {
      "text/html": [
       "<div>\n",
       "<style scoped>\n",
       "    .dataframe tbody tr th:only-of-type {\n",
       "        vertical-align: middle;\n",
       "    }\n",
       "\n",
       "    .dataframe tbody tr th {\n",
       "        vertical-align: top;\n",
       "    }\n",
       "\n",
       "    .dataframe thead th {\n",
       "        text-align: right;\n",
       "    }\n",
       "</style>\n",
       "<table border=\"1\" class=\"dataframe\">\n",
       "  <thead>\n",
       "    <tr style=\"text-align: right;\">\n",
       "      <th></th>\n",
       "      <th>text</th>\n",
       "      <th>score</th>\n",
       "    </tr>\n",
       "  </thead>\n",
       "  <tbody>\n",
       "    <tr>\n",
       "      <th>0</th>\n",
       "      <td>POLÍTICA Y GOBIERNO La Cuarta TransformaciŠn h...</td>\n",
       "      <td>-1</td>\n",
       "    </tr>\n",
       "    <tr>\n",
       "      <th>1</th>\n",
       "      <td>Sin duda, también ha requerido una intensa act...</td>\n",
       "      <td>-1</td>\n",
       "    </tr>\n",
       "    <tr>\n",
       "      <th>2</th>\n",
       "      <td>A la par, se ha garantizado la gobernabilidad ...</td>\n",
       "      <td>0</td>\n",
       "    </tr>\n",
       "    <tr>\n",
       "      <th>3</th>\n",
       "      <td>Algunas de ellas incluyen el privilegiar la de...</td>\n",
       "      <td>1</td>\n",
       "    </tr>\n",
       "    <tr>\n",
       "      <th>4</th>\n",
       "      <td>ERRADICAR LA CORRUPCIÓN, EL DISPENDIO Y LA FRI...</td>\n",
       "      <td>-1</td>\n",
       "    </tr>\n",
       "  </tbody>\n",
       "</table>\n",
       "</div>"
      ],
      "text/plain": [
       "                                                text  score\n",
       "0  POLÍTICA Y GOBIERNO La Cuarta TransformaciŠn h...     -1\n",
       "1  Sin duda, también ha requerido una intensa act...     -1\n",
       "2  A la par, se ha garantizado la gobernabilidad ...      0\n",
       "3  Algunas de ellas incluyen el privilegiar la de...      1\n",
       "4  ERRADICAR LA CORRUPCIÓN, EL DISPENDIO Y LA FRI...     -1"
      ]
     },
     "execution_count": 28,
     "metadata": {},
     "output_type": "execute_result"
    }
   ],
   "source": [
    "df_sentences.head()"
   ]
  },
  {
   "cell_type": "code",
   "execution_count": 78,
   "metadata": {},
   "outputs": [],
   "source": [
    "def plot_sentiment_analysis(df):\n",
    "   \n",
    "    df = df[(df[\"score\"] <= 10) & (df[\"score\"] >= -10)]\n",
    "\n",
    "# Make bars with a score below zero the color yellow and bars with a score above zero blue.\n",
    "    colors = np.array([(0.811, 0.913, 0.145)]*len(df[\"score\"]))\n",
    "    colors[df[\"score\"] >= 0] = (0.529, 0.870, 0.972)\n",
    "\n",
    "    yticks_labels = [str(i) for i in range(-12, 12, 2)]\n",
    "    plt.yticks(np.arange(-12, 12, 2), yticks_labels)\n",
    "\n",
    "    ax = plt.bar(df.index, df[\"score\"], color=colors, linewidth=0)\n",
    "    plt.xlabel(\"Sentence Number\")\n",
    "    plt.ylabel(\"Score\")\n",
    "    plt.title(\"Sentiment Analysis\")\n",
    "    #ax.set_facecolor('black')"
   ]
  },
  {
   "cell_type": "code",
   "execution_count": 79,
   "metadata": {},
   "outputs": [
    {
     "data": {
      "image/png": "[encoded data removed]",
      "text/plain": [
       "<Figure size 1008x648 with 1 Axes>"
      ]
     },
     "metadata": {},
     "output_type": "display_data"
    }
   ],
   "source": [
    "plot_sentiment_analysis(df_sentences)"
   ]
  },
  {
   "cell_type": "markdown",
   "metadata": {},
   "source": [
    "#### Generating Donut Plot of the Sentiment Analysis"
   ]
  },
  {
   "cell_type": "code",
   "execution_count": 74,
   "metadata": {},
   "outputs": [],
   "source": [
    "def plot_donut(df):\n",
    "\n",
    "    labels = [\"Positive\", \"Negative\", \"Neutral\"]\n",
    "\n",
    "    positive = len(df[df[\"score\"] > 0])\n",
    "    negative = len(df[df[\"score\"] < 0])\n",
    "    neutral = len(df[df[\"score\"] == 0])\n",
    "\n",
    "    values = [positive, negative, neutral]\n",
    "    colors = [\"green\", \"red\", \"gray\"]\n",
    "    explode = (0, 0, 0)  # Explode a slice if required\n",
    "\n",
    "    plt.rcParams[\"font.size\"] = 18\n",
    "    plt.rcParams[\"legend.fontsize\"] = 20\n",
    "\n",
    "    plt.pie(values, explode=explode, labels=None,\n",
    "            colors=colors, autopct='%1.1f%%', shadow=False)\n",
    "\n",
    "# Drawing a circle in the Pie chart to make it a donut chart:\n",
    "    centre_circle = plt.Circle((0, 0), 0.75, \n",
    "                    color=\"white\", fc=\"white\", linewidth=0)\n",
    "\n",
    "    fig = plt.gcf()\n",
    "    fig.gca().add_artist(centre_circle)\n",
    "\n",
    "    plt.axis(\"equal\")\n",
    "    plt.legend(labels)\n"
   ]
  },
  {
   "cell_type": "code",
   "execution_count": 75,
   "metadata": {},
   "outputs": [
    {
     "data": {
      "image/png": "[encoded data removed]",
      "text/plain": [
       "<Figure size 1008x648 with 1 Axes>"
      ]
     },
     "metadata": {},
     "output_type": "display_data"
    }
   ],
   "source": [
    "plot_donut(df_sentences)"
   ]
  }
 ],
 "metadata": {
  "kernelspec": {
   "display_name": "Python 3",
   "language": "python",
   "name": "python3"
  },
  "language_info": {
   "codemirror_mode": {
    "name": "ipython",
    "version": 3
   },
   "file_extension": ".py",
   "mimetype": "text/x-python",
   "name": "python",
   "nbconvert_exporter": "python",
   "pygments_lexer": "ipython3",
   "version": "3.7.0"
  }
 },
 "nbformat": 4,
 "nbformat_minor": 2
}
