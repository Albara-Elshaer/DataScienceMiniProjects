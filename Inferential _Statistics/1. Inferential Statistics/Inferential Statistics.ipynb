{
 "cells": [
  {
   "cell_type": "markdown",
   "metadata": {},
   "source": [
    "# Inferential Statistics - Frequentism"
   ]
  },
  {
   "cell_type": "markdown",
   "metadata": {},
   "source": [
    "## Section 1: An introduction to sampling from the Normal distribution"
   ]
  },
  {
   "cell_type": "markdown",
   "metadata": {},
   "source": [
    "While there's a fair amount of interest in [sklearn](https://scikit-learn.org/stable/) within the machine learning community, I used [scipy.stats](https://docs.scipy.org/doc/scipy-0.15.1/reference/tutorial/stats.html) from [scipy](https://docs.scipy.org/doc/scipy-0.15.1/reference/index.html) throughout my work. First to give you context, in this notebook I wanted to explore the ways I can generate the Normal distribution and to introduce the practical concepts of working with probability, random variables, and sampling distributions and produce the ability to apply these concepts in Python. I have made some commentary throughout my notebook to help to solidify my understanding through teaching it to you- the reader! "
   ]
  },
  {
   "cell_type": "code",
   "execution_count": 66,
   "metadata": {},
   "outputs": [],
   "source": [
    "#Must import these packages \n",
    "from scipy.stats import norm\n",
    "from scipy.stats import t\n",
    "import numpy as np\n",
    "import pandas as pd\n",
    "from numpy.random import seed\n",
    "import matplotlib.pyplot as plt"
   ]
  },
  {
   "cell_type": "markdown",
   "metadata": {},
   "source": [
    " I called up the documentation for the `norm` function imported above to see that the Probability Density Function (PDF) is the second listed method for the norm function."
   ]
  },
  {
   "cell_type": "code",
   "execution_count": 10,
   "metadata": {},
   "outputs": [],
   "source": [
    "norm.rvs?"
   ]
  },
  {
   "cell_type": "code",
   "execution_count": 59,
   "metadata": {},
   "outputs": [
    {
     "data": {
      "text/plain": [
       "array([ 1.07127325,  0.73297886, -0.6135027 ,  1.74669335, -0.82337454])"
      ]
     },
     "execution_count": 59,
     "metadata": {},
     "output_type": "execute_result"
    }
   ],
   "source": [
    "#Generating random variates to draw 5 samples with a standard normal distribution. \n",
    "test_sample=norm.rvs(size=5)\n",
    "\n",
    "test_sample"
   ]
  },
  {
   "cell_type": "markdown",
   "metadata": {},
   "source": [
    "Calculated the mean as shown below. The mean of a standard normal distribution is 0, however, the calculated mean using the numpy function is 0.4"
   ]
  },
  {
   "cell_type": "code",
   "execution_count": 61,
   "metadata": {},
   "outputs": [
    {
     "data": {
      "text/plain": [
       "0.42281364244679426"
      ]
     },
     "execution_count": 61,
     "metadata": {},
     "output_type": "execute_result"
    }
   ],
   "source": [
    "# Calculating the mean of the test_sample:\n",
    "np.mean(test_sample)"
   ]
  },
  {
   "cell_type": "markdown",
   "metadata": {},
   "source": [
    "Manually calculated the standard deviation of these numbers using the standard deviation formula: $\\sqrt{\\frac{\\sum_i(x_i - \\bar{x})^2}{n}}$"
   ]
  },
  {
   "cell_type": "code",
   "execution_count": 62,
   "metadata": {},
   "outputs": [
    {
     "data": {
      "text/plain": [
       "0.9895752982403432"
      ]
     },
     "execution_count": 62,
     "metadata": {},
     "output_type": "execute_result"
    }
   ],
   "source": [
    "# Sum of mean squares \n",
    "ms = np.sum((test_sample - np.mean(test_sample)) ** 2)\n",
    "\n",
    "# Divide by n \n",
    "n = len(test_sample)\n",
    "ms / n\n",
    "\n",
    "# Take the square root of the result\n",
    "std_dev = np.sqrt(ms / n)\n",
    "\n",
    "std_dev"
   ]
  },
  {
   "cell_type": "markdown",
   "metadata": {},
   "source": [
    "Here I have calculated the actual standard deviation of a small data set (sample size = 5). This small data set is actually a sample from our larger (infinite) population. In this case, the population is infinite because I could keep drawing normal random variates until my computers die. <br>\n",
    "\n",
    "Thus, **generally speaking, the sample mean we calculate will not be equal to the population mean...** <br>\n",
    "This is because the sum of squares of the deviations from the _population_ mean will be bigger than the sum of squares of the deviations from the _sample_ mean.... In other words, the sum of squares of the deviations from the _sample_ mean is too small to give an unbiased estimate of the _population_ variance. An example of this effect is given [here](https://en.wikipedia.org/wiki/Bessel%27s_correction#Source_of_bias). <br> \n",
    "\n",
    "Scaling our estimate of the variance by the factor $n/(n-1)$ gives an unbiased estimator of the population variance. This factor is known as [Bessel's correction](https://en.wikipedia.org/wiki/Bessel%27s_correction). The consequence of this is that the sample size, $n$, in the denominator is replaced by $n-1$."
   ]
  },
  {
   "cell_type": "markdown",
   "metadata": {},
   "source": [
    "Using the same **_test_sample_** I created above, I calculated the **population** standard deviation manually using Bessel's correction ($n-1$ in the denominator), thus $\\sqrt{\\frac{\\sum_i(x_i - \\bar{x})^2}{n-1}}$ "
   ]
  },
  {
   "cell_type": "code",
   "execution_count": 63,
   "metadata": {},
   "outputs": [
    {
     "data": {
      "text/plain": [
       "1.1063788178600178"
      ]
     },
     "execution_count": 63,
     "metadata": {},
     "output_type": "execute_result"
    }
   ],
   "source": [
    "# Sum of mean squares \n",
    "ms = np.sum((test_sample - np.mean(test_sample)) ** 2)\n",
    "\n",
    "# Divide by n - 1 (Bessel's correction)\n",
    "n = len(test_sample)\n",
    "ms / (n - 1) \n",
    "\n",
    "# Take the square root of the result\n",
    "std_bessel = np.sqrt(ms / (n - 1))\n",
    "\n",
    "std_bessel"
   ]
  },
  {
   "cell_type": "code",
   "execution_count": 65,
   "metadata": {},
   "outputs": [
    {
     "data": {
      "text/plain": [
       "False"
      ]
     },
     "execution_count": 65,
     "metadata": {},
     "output_type": "execute_result"
    }
   ],
   "source": [
    "std_bessel == std_dev"
   ]
  },
  {
   "cell_type": "code",
   "execution_count": 64,
   "metadata": {},
   "outputs": [
    {
     "name": "stdout",
     "output_type": "stream",
     "text": [
      "0.9895752982403432\n",
      "True\n"
     ]
    }
   ],
   "source": [
    "# Using the numpy function to calculate the standard deviation of my test_sample and to compare it with the standard \n",
    "# deviation I manually calculated (\"std_dev\"), which does not take in the consideration of using Bessel's Correction:\n",
    "\n",
    "print(np.std(test_sample))\n",
    "\n",
    "if np.std(test_sample)==std_dev:\n",
    "    print('True')"
   ]
  },
  {
   "cell_type": "code",
   "execution_count": 22,
   "metadata": {},
   "outputs": [
    {
     "data": {
      "text/plain": [
       "1.238245806693763"
      ]
     },
     "execution_count": 22,
     "metadata": {},
     "output_type": "execute_result"
    }
   ],
   "source": [
    "# Using the numpy function to calculate the standard deviation of my test_sample with Bessel's Correction:\n",
    "np.std(test_sample, ddof=1)\n"
   ]
  },
  {
   "cell_type": "code",
   "execution_count": 67,
   "metadata": {},
   "outputs": [
    {
     "data": {
      "text/plain": [
       "True"
      ]
     },
     "execution_count": 67,
     "metadata": {},
     "output_type": "execute_result"
    }
   ],
   "source": [
    "np.std(test_sample, ddof=1) == std_bessel"
   ]
  },
  {
   "cell_type": "markdown",
   "metadata": {},
   "source": [
    "### Summary of Section 1:"
   ]
  },
  {
   "cell_type": "markdown",
   "metadata": {},
   "source": [
    "In section 1, I imported the scipy.stats package and used it to draw a small sample from a standard normal distribution and assigned it to the variable \"test_sample\". Then I have calculated the mean of test_sample. This is not exactly equal to the expected population parameter (which can be correctly assumed because I generated the random variates from a specific, known distribution). I introduced two ways of calculating the standard deviation; one uses $n$ in the denominator and the other uses $n-1$ (Bessel's correction). In these these calculations, I realzied that np.std() performs the calculation without using Bessel's correction by default. In order to generate Bessel's Correction with np.std() you use Delta Degrees of Freedom (ddof) equal to 1."
   ]
  },
  {
   "cell_type": "markdown",
   "metadata": {},
   "source": [
    "To reiterate: <br>\n",
    "\n",
    "$n$ as the denominator is used to calculate the standard deviation of a sequence of numbers <br> \n",
    "\n",
    "$n-1$ as the denominator is used on this sequence of numbers to estimate the **_population parameter_** <br>\n",
    "\n",
    "\n",
    "Some of the terminology can be a little confusing, but I will try my best below: <br>\n",
    "The population parameter is traditionally written as **$\\sigma$** and the sample statistic as $s$. Rather unhelpfully, $s$ is also called the **sample standard deviation (using $n-1$)** whereas the **standard deviation of the sample uses $n$.** <br>\n",
    "\n",
    "That's right, the **_sample standard deviation_** and the **_standard deviation_** are two separate terminologies and imply different meanings. They are **NOT** the same thing!\n",
    "\n",
    "The **sample standard deviation** is the best (unbiased) estimate of the **population parameter ($\\sigma$)** with this equation: <br>\n",
    "\\begin{equation} s = \\sqrt{\\frac{\\sum_i(x_i - \\bar{x})^2}{n-1}} \\approx \\sigma,\\end{equation}\n",
    "\n",
    "\n",
    "If the data set _is_ the entire population, the standard deviation for the population parameter ($\\sigma$) can be calculated  via the equation shown below: <br>\n",
    "\\begin{equation}\\sigma = \\sqrt{\\frac{\\sum_i(x_i - \\bar{x})^2}{n}}\\end{equation} <br>\n",
    "\n",
    "If the sample _is_ the population then you know absolutely everything about your population, there are no probabilities really to calculate and no inference to be done. <br>\n",
    "\n",
    "If, however, you have sampled _from_ your population, you only have partial knowledge of the state of your population and the standard deviation of your sample is **not** an unbiased estimate of the standard deviation of the population, in which case you seek to estimate that **_population parameter ($\\sigma$)_** via the **sample standard deviation** equation, which uses the $n-1$ denominator."
   ]
  },
  {
   "cell_type": "markdown",
   "metadata": {},
   "source": [
    "## Section 2: Sampling Distributions"
   ]
  },
  {
   "cell_type": "markdown",
   "metadata": {},
   "source": [
    "All we know about the population is what we see in the sample. From this sample, inferences can be made about the population. This can be done by looking at the histogram of the values and calculating the mean and standard deviation as estimates of the population parameters. In other words, in order to make some claims about the general population, a sample from a pool must be taken from the population, which is what we call sample size $n$. But what if we were to take different sample sizes $n$? Would we get the same result? Would we make the same claims about the general population? This leads to a fundamental question in this section: _when we make some inference about a population based on our sample, how confident can we be that we've got it 'right'?_"
   ]
  },
  {
   "cell_type": "markdown",
   "metadata": {},
   "source": [
    "To answer the questions above, I have simulated the standard normal distribution, with its variance equal to its standard deviation of one. I generated a data set using 'norm.rvs' imagining I retreived data from a town of 50,000 with recorded height of everyone in this town. The population mean height is 172 cm and population standard deviation is 5 cm:"
   ]
  },
  {
   "cell_type": "code",
   "execution_count": 41,
   "metadata": {},
   "outputs": [],
   "source": [
    "import seaborn as sns\n",
    "sns.set()\n",
    "sns.set_style({'axis.grid':False})"
   ]
  },
  {
   "cell_type": "code",
   "execution_count": 26,
   "metadata": {},
   "outputs": [],
   "source": [
    "#Generating 50,000 height measures with average height 172 and standard deviation 5:\n",
    "seed(47)\n",
    "pop_heights = norm.rvs(172, 5, size=50000)"
   ]
  },
  {
   "cell_type": "code",
   "execution_count": 73,
   "metadata": {},
   "outputs": [
    {
     "data": {
      "image/png": "[encoded data removed]",
      "text/plain": [
       "<Figure size 432x288 with 1 Axes>"
      ]
     },
     "metadata": {},
     "output_type": "display_data"
    }
   ],
   "source": [
    "# Creating a histogram with the information above from pop_heights \n",
    "_ = plt.hist(pop_heights, bins=30)\n",
    "_ = plt.xlabel('height (cm)')\n",
    "_ = plt.ylabel('number of people')\n",
    "_ = plt.title('Distribution of heights in entire town population')\n",
    "_ = plt.axvline(172, color='r')\n",
    "_ = plt.axvline(172+5, color='g', linestyle='--')\n",
    "_ = plt.axvline(172-5, color='g', linestyle='--')\n",
    "_ = plt.axvline(172+10, color='y', linestyle='-.')\n",
    "_ = plt.axvline(172-10, color='y', linestyle='-.')"
   ]
  },
  {
   "cell_type": "code",
   "execution_count": 28,
   "metadata": {},
   "outputs": [],
   "source": [
    "# Created a function that will help draw a random smaple of size n:\n",
    "def townsfolk_sampler(n):\n",
    "    return np.random.choice(pop_heights, n)"
   ]
  },
  {
   "cell_type": "markdown",
   "metadata": {},
   "source": [
    "Let's say I out one day and randomly sample 10 people to measure and plotted a histogram. "
   ]
  },
  {
   "cell_type": "code",
   "execution_count": 74,
   "metadata": {},
   "outputs": [],
   "source": [
    "# Randomly sampling 10 people to measure \n",
    "seed(47)\n",
    "daily_sample1 = townsfolk_sampler(10)"
   ]
  },
  {
   "cell_type": "code",
   "execution_count": 43,
   "metadata": {},
   "outputs": [
    {
     "data": {
      "image/png": "[encoded data removed]",
      "text/plain": [
       "<Figure size 432x288 with 1 Axes>"
      ]
     },
     "metadata": {},
     "output_type": "display_data"
    }
   ],
   "source": [
    "_ = plt.hist(daily_sample1, bins=10)\n",
    "_ = plt.xlabel('height (cm)')\n",
    "_ = plt.ylabel('number of people')\n",
    "_ = plt.title('Distribution of heights in sample size 10')"
   ]
  },
  {
   "cell_type": "code",
   "execution_count": 30,
   "metadata": {},
   "outputs": [
    {
     "data": {
      "text/plain": [
       "173.47911444163503"
      ]
     },
     "execution_count": 30,
     "metadata": {},
     "output_type": "execute_result"
    }
   ],
   "source": [
    "np.mean(daily_sample1)"
   ]
  },
  {
   "cell_type": "markdown",
   "metadata": {},
   "source": [
    "The sample distribution doesn't look similar to the population distribution plotted earlier (but we will never know in real-life either because practically it is hard to retrieve data from every single person in the population)."
   ]
  },
  {
   "cell_type": "markdown",
   "metadata": {},
   "source": [
    "And what would happen to the population distribution and height mean if I went out and repeated this experiment and collected another random sample size 10?"
   ]
  },
  {
   "cell_type": "code",
   "execution_count": 31,
   "metadata": {},
   "outputs": [],
   "source": [
    "daily_sample2 = townsfolk_sampler(10)"
   ]
  },
  {
   "cell_type": "code",
   "execution_count": 32,
   "metadata": {},
   "outputs": [
    {
     "data": {
      "text/plain": [
       "173.7317666636263"
      ]
     },
     "execution_count": 32,
     "metadata": {},
     "output_type": "execute_result"
    }
   ],
   "source": [
    "np.mean(daily_sample2)"
   ]
  },
  {
   "cell_type": "code",
   "execution_count": 81,
   "metadata": {},
   "outputs": [
    {
     "name": "stdout",
     "output_type": "stream",
     "text": [
      "Mean of 1st Sample: 173.47911444163503\n",
      "Mean of 2nd Sample: 173.7317666636263\n"
     ]
    }
   ],
   "source": [
    "print(\"Mean of 1st Sample:\", np.mean(daily_sample1))\n",
    "print(\"Mean of 2nd Sample:\", np.mean(daily_sample2))"
   ]
  },
  {
   "cell_type": "markdown",
   "metadata": {},
   "source": [
    "The means between the 1st random sample and 2nd random smaples are practically the same and there is not much difference. This si because the sample size is the same. "
   ]
  },
  {
   "cell_type": "markdown",
   "metadata": {},
   "source": [
    "Next, I simulated this random trial of sampling 10 people every day for a year. I calculated the mean of each daily sample of 10 and plotted the resultant sampling distribution of the mean."
   ]
  },
  {
   "cell_type": "code",
   "execution_count": 33,
   "metadata": {},
   "outputs": [],
   "source": [
    "seed(47)\n",
    "# calculate daily means from a 10 sample size:\n",
    "sample= [np.mean(townsfolk_sampler(10)) for i in range(365)]"
   ]
  },
  {
   "cell_type": "code",
   "execution_count": 40,
   "metadata": {},
   "outputs": [
    {
     "data": {
      "image/png": "[encoded data removed]",
      "text/plain": [
       "<Figure size 432x288 with 1 Axes>"
      ]
     },
     "metadata": {},
     "output_type": "display_data"
    }
   ],
   "source": [
    "plt.hist(sample, bins=30)\n",
    "plt.show()"
   ]
  },
  {
   "cell_type": "markdown",
   "metadata": {},
   "source": [
    "The above is the distribution of the means of samples of size 10 taken from our population each day for a year totaling 3,650 size. The Central Limit Theorem tells us the expected mean of this distribution will be equal to the population mean, and standard deviation will be $\\sigma / \\sqrt n$, which, in this case, should be approximately 1.58."
   ]
  },
  {
   "cell_type": "code",
   "execution_count": 44,
   "metadata": {},
   "outputs": [
    {
     "data": {
      "text/plain": [
       "171.8660049358649"
      ]
     },
     "execution_count": 44,
     "metadata": {},
     "output_type": "execute_result"
    }
   ],
   "source": [
    "np.mean(sample)"
   ]
  },
  {
   "cell_type": "code",
   "execution_count": 45,
   "metadata": {},
   "outputs": [
    {
     "data": {
      "text/plain": [
       "1.5756704135286475"
      ]
     },
     "execution_count": 45,
     "metadata": {},
     "output_type": "execute_result"
    }
   ],
   "source": [
    "np.std(sample, ddof=0)"
   ]
  },
  {
   "cell_type": "markdown",
   "metadata": {},
   "source": [
    "Remember, in this instance, the population parameters was known: average height= 172 cm and standard deviation= 5 cm"
   ]
  },
  {
   "cell_type": "markdown",
   "metadata": {},
   "source": [
    "I repeated the above year's worth of samples but for a sample size of 50 each day and compared my resultant summary statistics to those predicted by the CLT. Would you expect your distribution of sample means to be wider (more variable) or narrower (more consistent)?"
   ]
  },
  {
   "cell_type": "code",
   "execution_count": 46,
   "metadata": {},
   "outputs": [
    {
     "data": {
      "image/png": "[encoded data removed]",
      "text/plain": [
       "<Figure size 432x288 with 1 Axes>"
      ]
     },
     "metadata": {},
     "output_type": "display_data"
    }
   ],
   "source": [
    "seed(47)\n",
    "# calculate daily means from a 50 sample size:\n",
    "sample50 = [np.mean(townsfolk_sampler(50)) for i in range(365)]\n",
    "plt.hist(sample50, bins=30)\n",
    "plt.show()"
   ]
  },
  {
   "cell_type": "code",
   "execution_count": 47,
   "metadata": {},
   "outputs": [
    {
     "data": {
      "text/plain": [
       "171.94366080916114"
      ]
     },
     "execution_count": 47,
     "metadata": {},
     "output_type": "execute_result"
    }
   ],
   "source": [
    "np.mean(sample50)"
   ]
  },
  {
   "cell_type": "code",
   "execution_count": 48,
   "metadata": {},
   "outputs": [
    {
     "data": {
      "text/plain": [
       "0.6736107539771146"
      ]
     },
     "execution_count": 48,
     "metadata": {},
     "output_type": "execute_result"
    }
   ],
   "source": [
    "np.std(sample50)"
   ]
  },
  {
   "cell_type": "markdown",
   "metadata": {},
   "source": [
    "### Summary of Section 2:"
   ]
  },
  {
   "cell_type": "markdown",
   "metadata": {},
   "source": [
    "We can estimate population parameters from a sample from the population, and that samples have their own distributions. As the samples can vary from one draw to another, so will the sample statistics. If we were to perform repeat draws of size n and calculate the mean of each, we would expect to obtain a distribution of values. This is the sampling distribution of the mean. The Central Limit Theorem (CLT) tells us that such a distribution will approach a normal distribution as the sample size (n) increases. In other words, the narrower the sampling distributions gets."
   ]
  },
  {
   "cell_type": "markdown",
   "metadata": {},
   "source": [
    "## Section 3: Normal Testing"
   ]
  },
  {
   "cell_type": "markdown",
   "metadata": {},
   "source": [
    "Remember, it is rare (if ever) to actually know the population parameters but it is possible to estimate them. In order to make inferences such as \"is this observation unusual?\" or \"has my population mean changed?\" then it is needed to have some idea of what the underlying distribution to calculate relevant probabilities. In this section, I take a look of how these probabilities work."
   ]
  },
  {
   "cell_type": "markdown",
   "metadata": {},
   "source": [
    "Recall some basic properties of the standard Normal distribution, such as about 68% of observations being within plus or minus 1 standard deviation of the mean.\n",
    "\n",
    "Understanding the basic properties of the standard Normal distribution can easily help calculate the probability of observing the value 1 or less in a single observation from the standard normal distribution."
   ]
  },
  {
   "cell_type": "markdown",
   "metadata": {},
   "source": [
    "Since about 68% of observations are within plus or minus 1 standard deviation of the mean in a Normal distrubtion, then the area not covered by plus or minus 1 standard deviation is ~32%. Thus, the probability of selecting values above 1 standard deviation is about ~16%. Oppositly, the probability of observing a value less than or equal to 1 standard deviation from the mean would be 84%. "
   ]
  },
  {
   "cell_type": "code",
   "execution_count": 82,
   "metadata": {},
   "outputs": [
    {
     "data": {
      "text/plain": [
       "0.8413447460685429"
      ]
     },
     "execution_count": 82,
     "metadata": {},
     "output_type": "execute_result"
    }
   ],
   "source": [
    "#Confirming the probability of observing a value less than or equal to 1 \n",
    "# standard deviation from the mean usig \"norm.cdf\"\n",
    "\n",
    "# The area that lies below the value of 1 in a standard normal distribution \n",
    "\n",
    "norm.cdf(1)"
   ]
  },
  {
   "cell_type": "markdown",
   "metadata": {},
   "source": [
    "Using our knowledge of the population parameters for our townsfolk's heights, what is the probability of selecting one person at random and their height being 177 cm or less?"
   ]
  },
  {
   "cell_type": "markdown",
   "metadata": {},
   "source": [
    "In the problem above, the population mean was 172cm and population standard deviation was 5cm. Height of 177cm is exactly one standard deviation above the mean. Thus the probability of selecting one person with height being 177cm at random is 84.13%"
   ]
  },
  {
   "cell_type": "code",
   "execution_count": 50,
   "metadata": {},
   "outputs": [
    {
     "data": {
      "text/plain": [
       "0.8413447460685429"
      ]
     },
     "execution_count": 50,
     "metadata": {},
     "output_type": "execute_result"
    }
   ],
   "source": [
    "norm.cdf(x=177, loc=172, scale=5)"
   ]
  },
  {
   "cell_type": "markdown",
   "metadata": {},
   "source": [
    "What if I randomly picked one person and measure their height and find they are 200 cm tall?"
   ]
  },
  {
   "cell_type": "markdown",
   "metadata": {},
   "source": [
    "Just by eyeballing it, height of 200 cm is more than 5 standard deviations above the mean (200 > 172 + (5 * 5)). We know from empirical evidence that -3σ to 3σ covers 99.9% of the whole normal distribution. Thus we should be very surprised for finding a person with height of 200 cm. We can verify this using scipy.stats.norm function. The probability is 1.071e-08, which is close to zero."
   ]
  },
  {
   "cell_type": "code",
   "execution_count": 52,
   "metadata": {},
   "outputs": [
    {
     "data": {
      "text/plain": [
       "1.0717590259723409e-08"
      ]
     },
     "execution_count": 52,
     "metadata": {},
     "output_type": "execute_result"
    }
   ],
   "source": [
    "1 - norm.cdf(x=200, loc=172, scale=5)"
   ]
  },
  {
   "cell_type": "markdown",
   "metadata": {},
   "source": [
    "Below, I started from the position of knowing nothing about the heights of people of the town and performed the following calculations:\n",
    "* Used seed of 47, to randomly sample the heights of 50 townsfolk\n",
    "* Estimate the population mean using np.mean\n",
    "* Estimate the population standard deviation using np.std\n",
    "* Calculate the (95%) [margin of error](https://www.statisticshowto.datasciencecentral.com/probability-and-statistics/hypothesis-testing/margin-of-error/#WhatMofE) (use the exact critial z value to 2 decimal places using norm.ppf())\n",
    "* Calculate the 95% Confidence Interval of the mean\n",
    "* Does this interval include the true population mean?"
   ]
  },
  {
   "cell_type": "code",
   "execution_count": 83,
   "metadata": {},
   "outputs": [],
   "source": [
    "# Use our favorite random seed of 47, to randomly sample the heights of 50 townsfolk\n",
    "seed(47)\n",
    "size = 50\n",
    "# take your sample now\n",
    "sample_50 = townsfolk_sampler(size)"
   ]
  },
  {
   "cell_type": "code",
   "execution_count": 84,
   "metadata": {},
   "outputs": [
    {
     "name": "stdout",
     "output_type": "stream",
     "text": [
      "Estimated population mean is: 172.7815108576788\n"
     ]
    }
   ],
   "source": [
    "# Estimate the population mean using np.mean\n",
    "sample_mean = np.mean(sample_50)\n",
    "print(\"Estimated population mean is: {}\".format(sample_mean))"
   ]
  },
  {
   "cell_type": "code",
   "execution_count": 85,
   "metadata": {},
   "outputs": [
    {
     "name": "stdout",
     "output_type": "stream",
     "text": [
      "Estimated population standard deviation is: 4.195424364433547\n"
     ]
    }
   ],
   "source": [
    "# Estimate the population standard deviation using np.std (remember which denominator to use!)\n",
    "# use ddof = 1 since we're using sample to estimate the unbiased population parameter (std)\n",
    "sample_std = np.std(sample_50, ddof=1)\n",
    "print(\"Estimated population standard deviation is: {}\".format(sample_std))"
   ]
  },
  {
   "cell_type": "markdown",
   "metadata": {},
   "source": [
    "### Conducted a two-tail test to approximate the best estimate of the population mean:"
   ]
  },
  {
   "cell_type": "code",
   "execution_count": 93,
   "metadata": {},
   "outputs": [
    {
     "name": "stdout",
     "output_type": "stream",
     "text": [
      "Estimated margin of error is: 1.1628909342876539\n"
     ]
    }
   ],
   "source": [
    "# Calculate the (95%) margin of error \n",
    "# (use the exact critial z value to 2 decimal places using norm.ppf())\n",
    "\n",
    "# for two-tailed test: 2.5% will be on either side of the rejection area \n",
    "# thus get ppf(0.975)\n",
    "\n",
    "# Equation: Critical value (use z-statistic) x Standard error of the sample.\n",
    "critical_value = norm.ppf(0.975)\n",
    "standard_error = sample_std / (np.sqrt(size))\n",
    "\n",
    "\n",
    "margin_of_error = critical_value * standard_error\n",
    "\n",
    "\n",
    "print(\"Estimated margin of error is: {}\".format(margin_of_error))"
   ]
  },
  {
   "cell_type": "code",
   "execution_count": 95,
   "metadata": {},
   "outputs": [
    {
     "name": "stdout",
     "output_type": "stream",
     "text": [
      "95% Confidence Interval is: [171.61861992339115,173.94440179196644]\n"
     ]
    }
   ],
   "source": [
    "# Calculate the 95% Confidence Interval of the mean\n",
    "ci95_lower = sample_mean - margin_of_error\n",
    "ci95_upper = sample_mean + margin_of_error\n",
    "\n",
    "print(\"95% Confidence Interval is: [{},{}]\".format(ci95_lower, ci95_upper))"
   ]
  },
  {
   "cell_type": "markdown",
   "metadata": {},
   "source": [
    "Above I calculated the confidence interval using the critical z value, however, I should have used a t-score instead of a z-score since we don't know the population standard deviation. "
   ]
  },
  {
   "cell_type": "markdown",
   "metadata": {},
   "source": [
    "Calculating the 95% confidence interval for the mean using the _t_ distribution is wider than the normal distribution since t-distribution curves are wider and fatter at the tails compared to normal distribution curves."
   ]
  },
  {
   "cell_type": "markdown",
   "metadata": {},
   "source": [
    "### Conducting a two-tailed test using t-critical values:"
   ]
  },
  {
   "cell_type": "code",
   "execution_count": 96,
   "metadata": {},
   "outputs": [
    {
     "data": {
      "text/plain": [
       "2.009575234489209"
      ]
     },
     "execution_count": 96,
     "metadata": {},
     "output_type": "execute_result"
    }
   ],
   "source": [
    "t_critical = t.ppf(0.975, size-1)\n",
    "t_critical"
   ]
  },
  {
   "cell_type": "code",
   "execution_count": 97,
   "metadata": {},
   "outputs": [
    {
     "name": "stdout",
     "output_type": "stream",
     "text": [
      "95% Confidence Interval is: [171.589184447403,173.9738372679546]\n"
     ]
    }
   ],
   "source": [
    "margin_of_error_t = t_critical * standard_error\n",
    "\n",
    "ci95_lower_t = sample_mean - margin_of_error_t\n",
    "ci95_upper_t = sample_mean + margin_of_error_t\n",
    "\n",
    "print(\"95% Confidence Interval is: [{},{}]\".format(ci95_lower_t, ci95_upper_t))"
   ]
  },
  {
   "cell_type": "markdown",
   "metadata": {},
   "source": [
    "This is slightly wider than the previous confidence interval. This reflects the greater uncertainty given that we are estimating population parameters from a sample."
   ]
  },
  {
   "cell_type": "markdown",
   "metadata": {},
   "source": [
    "## Conclusion: "
   ]
  },
  {
   "cell_type": "markdown",
   "metadata": {},
   "source": [
    "Again, it is rare (if ever) to know the true population parameters. We have to estimate them from our sample and we cannot even begin to estimate the standard deviation from a single observation, thus why sample sizes are larger than one. <br> \n",
    "\n",
    "This means we calculate the mean of the sample as our best estimate of the population mean and the standard deviation as our best estimate of the population standard deviation. In other words, we are now coming to deal with the sampling distributions we mentioned above as we are generally concerned with the properties of the sample means we obtain.\n",
    "\n",
    "Above, one result highlighted from the CLT, whereby the sampling distribution (of the mean) becomes narrower and narrower with the square root of the sample size. We remind ourselves that another result from the CLT is that even if the underlying population distribution is not normal, the sampling distribution will tend to become normal with sufficiently large sample size. This is the key driver for us 'requiring' a certain sample size. In reality this is simply a rule of thumb; if the underlying distribution is approximately normal then your sampling distribution will already be pretty normal, but if the underlying distribution is heavily skewed then you'd want to increase your sample size."
   ]
  }
 ],
 "metadata": {
  "kernelspec": {
   "display_name": "Python 3",
   "language": "python",
   "name": "python3"
  },
  "language_info": {
   "codemirror_mode": {
    "name": "ipython",
    "version": 3
   },
   "file_extension": ".py",
   "mimetype": "text/x-python",
   "name": "python",
   "nbconvert_exporter": "python",
   "pygments_lexer": "ipython3",
   "version": "3.7.3"
  }
 },
 "nbformat": 4,
 "nbformat_minor": 2
}
